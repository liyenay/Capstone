{
 "cells": [
  {
   "cell_type": "markdown",
   "id": "f50952e2-dcbc-4cab-af31-02b8533a8aaa",
   "metadata": {},
   "source": [
    "# TripAdvisor Restaurant Reviews - Data cleaning and pre-processing\n",
    "by Liyena Yusoff\n",
    "\n",
    "## Background\n",
    "\n",
    "In recent years, Singapore has experienced a surge in fusion cuisine, blending international flavors with local delicacies. While this culinary trend has gained popularity, it raises concerns about preserving the authenticity and traditional essence of local dishes.\n",
    "\n",
    "Amidst this dynamic gastronomic landscape, there's a delicate balance to be struck. Fusion cuisine caters to those who appreciate international twists, drawing attention to Singapore's culinary scene globally. However, this shift also prompts reflection on the preservation of authentic local experiences.\n",
    "\n",
    "The ongoing dialogue between fusion and tradition reflects diverse culinary preferences. While some gravitate towards the exciting blend of international flavors, others seek authentic tasting food true to the essence of their cultural roots. Navigating this intricate interplay between innovation and tradition becomes crucial in defining Singapore's culinary identity.\n",
    "\n",
    "## Problem statement\n",
    "\n",
    "With the growing challenge of finding truly authentic food, this project aims to recommend authentic dining experiences based on consumer preferences and support rstaurants in enhancing the authenticity and quality of their offerings through customer feedback analysis, including key words, and Net Promoter Scores (NPS).\n",
    "\n",
    "This addresses the difficulty customers face in navigating a culinary landscape where traditional flavors may be diluted or overshadowed by modern interpretations.\n",
    "\n",
    "## Objectives\n",
    "\n",
    "- Analyze TripAdvisor restaurant reviews to identify their sentiments for the authenticity of the dishes.\n",
    "- Develop a NPS-like score to rank restaurants.\n",
    "- Develop a model that could classify TripAdvisor reviews into detractor or promoter of the restaurant.\n",
    "- Provide actionable insights for both consumers seeking authentic experiences and restaurants aiming to highlight their authenticity.\n",
    "\n",
    "## Success metrics\n",
    "\n",
    "- F1-score\n",
    "\n",
    "### Notebooks\n",
    "[Part II - Exploratory Data Analysis](eda.ipynb)\n",
    "\n",
    "[Part III - Modeling](preprocess_model.ipynb)\n",
    "\n",
    "[Part IV - App data training](../streamlit/rag_finetuning.ipynb)\n",
    "\n",
    "### Contents\n",
    "- [Data cleaning](#Clean-data-using-DataCleaner)\n",
    "- [Text Cleaning](#Clean-and-lemmatize-text-data-using-TextCleaner)"
   ]
  },
  {
   "cell_type": "code",
   "execution_count": 1,
   "id": "438049bb-204b-4ae4-8f61-1853f4c1f4a3",
   "metadata": {
    "tags": []
   },
   "outputs": [],
   "source": [
    "# import libraries\n",
    "import pandas as pd\n",
    "import numpy as np\n",
    "import time\n",
    "\n",
    "from data_cleaner import DataCleaner\n",
    "from text_cleaner import TextCleaner\n",
    "\n",
    "from bs4 import BeautifulSoup\n",
    "import spacy\n",
    "from nltk.tokenize import sent_tokenize, word_tokenize, RegexpTokenizer\n",
    "from nltk.stem import WordNetLemmatizer\n",
    "from nltk.stem.porter import PorterStemmer\n",
    "from nltk.corpus import stopwords, wordnet\n",
    "from nltk import pos_tag\n",
    "import re "
   ]
  },
  {
   "cell_type": "markdown",
   "id": "78c65622-33e0-4760-82b4-1f5ef90451e8",
   "metadata": {
    "jp-MarkdownHeadingCollapsed": true,
    "tags": []
   },
   "source": [
    "## Import data"
   ]
  },
  {
   "cell_type": "code",
   "execution_count": 12,
   "id": "58427b1c-64d5-4903-b62d-e652e94f71c9",
   "metadata": {
    "tags": []
   },
   "outputs": [],
   "source": [
    "# import data\n",
    "\n",
    "data = pd.read_csv(\"../data/raw_reviews.csv\")"
   ]
  },
  {
   "cell_type": "code",
   "execution_count": 13,
   "id": "007d041a-c466-4c65-a4c8-a17a65f166b3",
   "metadata": {
    "tags": []
   },
   "outputs": [
    {
     "name": "stdout",
     "output_type": "stream",
     "text": [
      "<class 'pandas.core.frame.DataFrame'>\n",
      "RangeIndex: 40956 entries, 0 to 40955\n",
      "Data columns (total 5 columns):\n",
      " #   Column          Non-Null Count  Dtype \n",
      "---  ------          --------------  ----- \n",
      " 0   Unnamed: 0      40956 non-null  int64 \n",
      " 1   restaurant      40956 non-null  object\n",
      " 2   review_heading  40954 non-null  object\n",
      " 3   review_text     40956 non-null  object\n",
      " 4   review_rating   40956 non-null  int64 \n",
      "dtypes: int64(2), object(3)\n",
      "memory usage: 1.6+ MB\n"
     ]
    }
   ],
   "source": [
    "data.info()"
   ]
  },
  {
   "cell_type": "code",
   "execution_count": 14,
   "id": "8bdc3bca-4ba5-4f05-b200-0445b4e2875c",
   "metadata": {
    "tags": []
   },
   "outputs": [],
   "source": [
    "data.drop(columns=['Unnamed: 0'], inplace=True)"
   ]
  },
  {
   "cell_type": "code",
   "execution_count": 15,
   "id": "bc415743-2942-4c1f-b864-9b89b2811232",
   "metadata": {
    "tags": []
   },
   "outputs": [
    {
     "data": {
      "text/html": [
       "<div>\n",
       "<style scoped>\n",
       "    .dataframe tbody tr th:only-of-type {\n",
       "        vertical-align: middle;\n",
       "    }\n",
       "\n",
       "    .dataframe tbody tr th {\n",
       "        vertical-align: top;\n",
       "    }\n",
       "\n",
       "    .dataframe thead th {\n",
       "        text-align: right;\n",
       "    }\n",
       "</style>\n",
       "<table border=\"1\" class=\"dataframe\">\n",
       "  <thead>\n",
       "    <tr style=\"text-align: right;\">\n",
       "      <th></th>\n",
       "      <th>restaurant</th>\n",
       "      <th>review_heading</th>\n",
       "      <th>review_text</th>\n",
       "      <th>review_rating</th>\n",
       "    </tr>\n",
       "  </thead>\n",
       "  <tbody>\n",
       "    <tr>\n",
       "      <th>0</th>\n",
       "      <td>Entre Nous creperie</td>\n",
       "      <td>Wonderfully consistent</td>\n",
       "      <td>I’ve come to entre nous periodically over the ...</td>\n",
       "      <td>50</td>\n",
       "    </tr>\n",
       "    <tr>\n",
       "      <th>1</th>\n",
       "      <td>Entre Nous creperie</td>\n",
       "      <td>Don’t miss the French Galettes and Crepes</td>\n",
       "      <td>Absolutely delicious…\\nThe menu is lovely and ...</td>\n",
       "      <td>50</td>\n",
       "    </tr>\n",
       "    <tr>\n",
       "      <th>2</th>\n",
       "      <td>Entre Nous creperie</td>\n",
       "      <td>Lovely French restaurant - excellent for glute...</td>\n",
       "      <td>Thank you so much for choosing entre nous crep...</td>\n",
       "      <td>50</td>\n",
       "    </tr>\n",
       "    <tr>\n",
       "      <th>3</th>\n",
       "      <td>Entre Nous creperie</td>\n",
       "      <td>A simple yet delicious &amp; authentic brunch.</td>\n",
       "      <td>Lovely little French restaurant, really authen...</td>\n",
       "      <td>45</td>\n",
       "    </tr>\n",
       "    <tr>\n",
       "      <th>4</th>\n",
       "      <td>Entre Nous creperie</td>\n",
       "      <td>A trip to brittany</td>\n",
       "      <td>Dear Rebecca,\\n\\nThank you very much for dinin...</td>\n",
       "      <td>40</td>\n",
       "    </tr>\n",
       "    <tr>\n",
       "      <th>...</th>\n",
       "      <td>...</td>\n",
       "      <td>...</td>\n",
       "      <td>...</td>\n",
       "      <td>...</td>\n",
       "    </tr>\n",
       "    <tr>\n",
       "      <th>40951</th>\n",
       "      <td>Chao San Cuisine</td>\n",
       "      <td>Chao Shan serves authentic Teochew cuisine</td>\n",
       "      <td>Chao Shan serves one of the best authentic Teo...</td>\n",
       "      <td>40</td>\n",
       "    </tr>\n",
       "    <tr>\n",
       "      <th>40952</th>\n",
       "      <td>Chao San Cuisine</td>\n",
       "      <td>Super duper yummy and authentic Teochew dishes</td>\n",
       "      <td>We loved all the dishes we had! If you can, or...</td>\n",
       "      <td>40</td>\n",
       "    </tr>\n",
       "    <tr>\n",
       "      <th>40953</th>\n",
       "      <td>Chao San Cuisine</td>\n",
       "      <td>chinese style</td>\n",
       "      <td>This country is not famous for its cuisines be...</td>\n",
       "      <td>40</td>\n",
       "    </tr>\n",
       "    <tr>\n",
       "      <th>40954</th>\n",
       "      <td>Chao San Cuisine</td>\n",
       "      <td>Cosy restaurant with authentic Teochew cuisine</td>\n",
       "      <td>Making a reservation is highly recommended, as...</td>\n",
       "      <td>40</td>\n",
       "    </tr>\n",
       "    <tr>\n",
       "      <th>40955</th>\n",
       "      <td>Chao San Cuisine</td>\n",
       "      <td>Teochew Cuisine - simple setting, great food!</td>\n",
       "      <td>Introduced by a good friend, I have tried the ...</td>\n",
       "      <td>40</td>\n",
       "    </tr>\n",
       "  </tbody>\n",
       "</table>\n",
       "<p>40956 rows × 4 columns</p>\n",
       "</div>"
      ],
      "text/plain": [
       "                restaurant                                     review_heading  \\\n",
       "0      Entre Nous creperie                             Wonderfully consistent   \n",
       "1      Entre Nous creperie          Don’t miss the French Galettes and Crepes   \n",
       "2      Entre Nous creperie  Lovely French restaurant - excellent for glute...   \n",
       "3      Entre Nous creperie         A simple yet delicious & authentic brunch.   \n",
       "4      Entre Nous creperie                                 A trip to brittany   \n",
       "...                    ...                                                ...   \n",
       "40951     Chao San Cuisine         Chao Shan serves authentic Teochew cuisine   \n",
       "40952     Chao San Cuisine     Super duper yummy and authentic Teochew dishes   \n",
       "40953     Chao San Cuisine                                      chinese style   \n",
       "40954     Chao San Cuisine     Cosy restaurant with authentic Teochew cuisine   \n",
       "40955     Chao San Cuisine      Teochew Cuisine - simple setting, great food!   \n",
       "\n",
       "                                             review_text  review_rating  \n",
       "0      I’ve come to entre nous periodically over the ...             50  \n",
       "1      Absolutely delicious…\\nThe menu is lovely and ...             50  \n",
       "2      Thank you so much for choosing entre nous crep...             50  \n",
       "3      Lovely little French restaurant, really authen...             45  \n",
       "4      Dear Rebecca,\\n\\nThank you very much for dinin...             40  \n",
       "...                                                  ...            ...  \n",
       "40951  Chao Shan serves one of the best authentic Teo...             40  \n",
       "40952  We loved all the dishes we had! If you can, or...             40  \n",
       "40953  This country is not famous for its cuisines be...             40  \n",
       "40954  Making a reservation is highly recommended, as...             40  \n",
       "40955  Introduced by a good friend, I have tried the ...             40  \n",
       "\n",
       "[40956 rows x 4 columns]"
      ]
     },
     "execution_count": 15,
     "metadata": {},
     "output_type": "execute_result"
    }
   ],
   "source": [
    "data"
   ]
  },
  {
   "cell_type": "code",
   "execution_count": 17,
   "id": "5f18e76c-5b2e-4200-aa3e-ce99dd3664bc",
   "metadata": {
    "tags": []
   },
   "outputs": [
    {
     "data": {
      "text/html": [
       "<div>\n",
       "<style scoped>\n",
       "    .dataframe tbody tr th:only-of-type {\n",
       "        vertical-align: middle;\n",
       "    }\n",
       "\n",
       "    .dataframe tbody tr th {\n",
       "        vertical-align: top;\n",
       "    }\n",
       "\n",
       "    .dataframe thead th {\n",
       "        text-align: right;\n",
       "    }\n",
       "</style>\n",
       "<table border=\"1\" class=\"dataframe\">\n",
       "  <thead>\n",
       "    <tr style=\"text-align: right;\">\n",
       "      <th></th>\n",
       "      <th>restaurant</th>\n",
       "      <th>review_heading</th>\n",
       "      <th>review_text</th>\n",
       "      <th>review_rating</th>\n",
       "    </tr>\n",
       "  </thead>\n",
       "  <tbody>\n",
       "    <tr>\n",
       "      <th>2218</th>\n",
       "      <td>Anjappar Authentic Chettinaad Restaurant</td>\n",
       "      <td>NaN</td>\n",
       "      <td>We went to this restaurant for lunch with our ...</td>\n",
       "      <td>50</td>\n",
       "    </tr>\n",
       "    <tr>\n",
       "      <th>24732</th>\n",
       "      <td>Malaysian Food Street</td>\n",
       "      <td>NaN</td>\n",
       "      <td>Tried the chicken rice balls, lor bak and curr...</td>\n",
       "      <td>35</td>\n",
       "    </tr>\n",
       "  </tbody>\n",
       "</table>\n",
       "</div>"
      ],
      "text/plain": [
       "                                     restaurant review_heading  \\\n",
       "2218   Anjappar Authentic Chettinaad Restaurant            NaN   \n",
       "24732                     Malaysian Food Street            NaN   \n",
       "\n",
       "                                             review_text  review_rating  \n",
       "2218   We went to this restaurant for lunch with our ...             50  \n",
       "24732  Tried the chicken rice balls, lor bak and curr...             35  "
      ]
     },
     "execution_count": 17,
     "metadata": {},
     "output_type": "execute_result"
    }
   ],
   "source": [
    "data[data['review_heading'].isnull()]"
   ]
  },
  {
   "cell_type": "markdown",
   "id": "7558e950-55a3-4087-b7db-58fa16c5a82a",
   "metadata": {
    "jp-MarkdownHeadingCollapsed": true,
    "tags": []
   },
   "source": [
    "## Clean data using DataCleaner"
   ]
  },
  {
   "cell_type": "code",
   "execution_count": 19,
   "id": "21c84181-b3b1-4c63-b432-4758beb8ac68",
   "metadata": {
    "tags": []
   },
   "outputs": [],
   "source": [
    "cleaner = DataCleaner(data)\n",
    "\n",
    "cleaner.get_ratings('review_rating')\n",
    "\n",
    "cleaner.drop_duplicates()\n",
    "\n",
    "cleaned_reviews = cleaner.df"
   ]
  },
  {
   "cell_type": "code",
   "execution_count": 20,
   "id": "47bcfc0e-f601-4a67-88d4-872945a93bfb",
   "metadata": {
    "tags": []
   },
   "outputs": [
    {
     "data": {
      "text/plain": [
       "Index(['restaurant', 'review_heading', 'review_text', 'review_rating'], dtype='object')"
      ]
     },
     "execution_count": 20,
     "metadata": {},
     "output_type": "execute_result"
    }
   ],
   "source": [
    "cleaned_reviews.columns"
   ]
  },
  {
   "cell_type": "code",
   "execution_count": 21,
   "id": "c82d3957-7907-4610-b714-3fbf667a3891",
   "metadata": {
    "tags": []
   },
   "outputs": [
    {
     "data": {
      "text/html": [
       "<div>\n",
       "<style scoped>\n",
       "    .dataframe tbody tr th:only-of-type {\n",
       "        vertical-align: middle;\n",
       "    }\n",
       "\n",
       "    .dataframe tbody tr th {\n",
       "        vertical-align: top;\n",
       "    }\n",
       "\n",
       "    .dataframe thead th {\n",
       "        text-align: right;\n",
       "    }\n",
       "</style>\n",
       "<table border=\"1\" class=\"dataframe\">\n",
       "  <thead>\n",
       "    <tr style=\"text-align: right;\">\n",
       "      <th></th>\n",
       "      <th>restaurant</th>\n",
       "      <th>review_heading</th>\n",
       "      <th>review_text</th>\n",
       "      <th>review_rating</th>\n",
       "    </tr>\n",
       "  </thead>\n",
       "  <tbody>\n",
       "  </tbody>\n",
       "</table>\n",
       "</div>"
      ],
      "text/plain": [
       "Empty DataFrame\n",
       "Columns: [restaurant, review_heading, review_text, review_rating]\n",
       "Index: []"
      ]
     },
     "execution_count": 21,
     "metadata": {},
     "output_type": "execute_result"
    }
   ],
   "source": [
    "cleaned_reviews[cleaned_reviews.duplicated()]"
   ]
  },
  {
   "cell_type": "code",
   "execution_count": 22,
   "id": "7c94e1e8-0787-4f5b-8df6-a28d0242ad2b",
   "metadata": {
    "tags": []
   },
   "outputs": [
    {
     "name": "stdout",
     "output_type": "stream",
     "text": [
      "<class 'pandas.core.frame.DataFrame'>\n",
      "RangeIndex: 40947 entries, 0 to 40946\n",
      "Data columns (total 4 columns):\n",
      " #   Column          Non-Null Count  Dtype  \n",
      "---  ------          --------------  -----  \n",
      " 0   restaurant      40947 non-null  object \n",
      " 1   review_heading  40945 non-null  object \n",
      " 2   review_text     40947 non-null  object \n",
      " 3   review_rating   40947 non-null  float64\n",
      "dtypes: float64(1), object(3)\n",
      "memory usage: 1.2+ MB\n"
     ]
    }
   ],
   "source": [
    "cleaned_reviews.info()"
   ]
  },
  {
   "cell_type": "code",
   "execution_count": 23,
   "id": "cf6ac1d1-a662-4556-a658-a5735a04ebbe",
   "metadata": {
    "tags": []
   },
   "outputs": [
    {
     "name": "stdout",
     "output_type": "stream",
     "text": [
      "CPU times: user 5.8 ms, sys: 3.52 ms, total: 9.31 ms\n",
      "Wall time: 6.71 ms\n"
     ]
    }
   ],
   "source": [
    "%%time\n",
    "# Assuming 'df' is your DataFrame with a column 'restaurant_name' containing restaurant names\n",
    "# Create a unique list of restaurant names\n",
    "unique_restaurants = cleaned_reviews['restaurant'].unique()\n",
    "\n",
    "# Create a mapping between restaurant names and numbers\n",
    "restaurant_to_number = {restaurant: i for i, restaurant in enumerate(unique_restaurants)}\n",
    "\n",
    "# Add a new column 'restaurant_label' to your DataFrame\n",
    "cleaned_reviews['restaurant_label'] = cleaned_reviews['restaurant'].map(restaurant_to_number)\n",
    "\n",
    "# Now, each restaurant name is associated with a unique number in the 'restaurant_label' column\n"
   ]
  },
  {
   "cell_type": "code",
   "execution_count": 24,
   "id": "0ad63f95-ede9-4d7b-8175-7a461f7f6705",
   "metadata": {
    "tags": []
   },
   "outputs": [
    {
     "data": {
      "text/html": [
       "<div>\n",
       "<style scoped>\n",
       "    .dataframe tbody tr th:only-of-type {\n",
       "        vertical-align: middle;\n",
       "    }\n",
       "\n",
       "    .dataframe tbody tr th {\n",
       "        vertical-align: top;\n",
       "    }\n",
       "\n",
       "    .dataframe thead th {\n",
       "        text-align: right;\n",
       "    }\n",
       "</style>\n",
       "<table border=\"1\" class=\"dataframe\">\n",
       "  <thead>\n",
       "    <tr style=\"text-align: right;\">\n",
       "      <th></th>\n",
       "      <th>restaurant</th>\n",
       "      <th>review_heading</th>\n",
       "      <th>review_text</th>\n",
       "      <th>review_rating</th>\n",
       "      <th>restaurant_label</th>\n",
       "    </tr>\n",
       "  </thead>\n",
       "  <tbody>\n",
       "    <tr>\n",
       "      <th>0</th>\n",
       "      <td>Entre Nous creperie</td>\n",
       "      <td>Wonderfully consistent</td>\n",
       "      <td>I’ve come to entre nous periodically over the ...</td>\n",
       "      <td>5.0</td>\n",
       "      <td>0</td>\n",
       "    </tr>\n",
       "    <tr>\n",
       "      <th>1</th>\n",
       "      <td>Entre Nous creperie</td>\n",
       "      <td>Don’t miss the French Galettes and Crepes</td>\n",
       "      <td>Absolutely delicious…\\nThe menu is lovely and ...</td>\n",
       "      <td>5.0</td>\n",
       "      <td>0</td>\n",
       "    </tr>\n",
       "    <tr>\n",
       "      <th>2</th>\n",
       "      <td>Entre Nous creperie</td>\n",
       "      <td>Lovely French restaurant - excellent for glute...</td>\n",
       "      <td>Thank you so much for choosing entre nous crep...</td>\n",
       "      <td>5.0</td>\n",
       "      <td>0</td>\n",
       "    </tr>\n",
       "    <tr>\n",
       "      <th>3</th>\n",
       "      <td>Entre Nous creperie</td>\n",
       "      <td>A simple yet delicious &amp; authentic brunch.</td>\n",
       "      <td>Lovely little French restaurant, really authen...</td>\n",
       "      <td>4.5</td>\n",
       "      <td>0</td>\n",
       "    </tr>\n",
       "    <tr>\n",
       "      <th>4</th>\n",
       "      <td>Entre Nous creperie</td>\n",
       "      <td>A trip to brittany</td>\n",
       "      <td>Dear Rebecca,\\n\\nThank you very much for dinin...</td>\n",
       "      <td>4.0</td>\n",
       "      <td>0</td>\n",
       "    </tr>\n",
       "  </tbody>\n",
       "</table>\n",
       "</div>"
      ],
      "text/plain": [
       "            restaurant                                     review_heading  \\\n",
       "0  Entre Nous creperie                             Wonderfully consistent   \n",
       "1  Entre Nous creperie          Don’t miss the French Galettes and Crepes   \n",
       "2  Entre Nous creperie  Lovely French restaurant - excellent for glute...   \n",
       "3  Entre Nous creperie         A simple yet delicious & authentic brunch.   \n",
       "4  Entre Nous creperie                                 A trip to brittany   \n",
       "\n",
       "                                         review_text  review_rating  \\\n",
       "0  I’ve come to entre nous periodically over the ...            5.0   \n",
       "1  Absolutely delicious…\\nThe menu is lovely and ...            5.0   \n",
       "2  Thank you so much for choosing entre nous crep...            5.0   \n",
       "3  Lovely little French restaurant, really authen...            4.5   \n",
       "4  Dear Rebecca,\\n\\nThank you very much for dinin...            4.0   \n",
       "\n",
       "   restaurant_label  \n",
       "0                 0  \n",
       "1                 0  \n",
       "2                 0  \n",
       "3                 0  \n",
       "4                 0  "
      ]
     },
     "execution_count": 24,
     "metadata": {},
     "output_type": "execute_result"
    }
   ],
   "source": [
    "cleaned_reviews.head()"
   ]
  },
  {
   "cell_type": "code",
   "execution_count": 25,
   "id": "629c36dc-ac18-4fd7-835e-1febe6348223",
   "metadata": {
    "tags": []
   },
   "outputs": [
    {
     "data": {
      "text/html": [
       "<div>\n",
       "<style scoped>\n",
       "    .dataframe tbody tr th:only-of-type {\n",
       "        vertical-align: middle;\n",
       "    }\n",
       "\n",
       "    .dataframe tbody tr th {\n",
       "        vertical-align: top;\n",
       "    }\n",
       "\n",
       "    .dataframe thead th {\n",
       "        text-align: right;\n",
       "    }\n",
       "</style>\n",
       "<table border=\"1\" class=\"dataframe\">\n",
       "  <thead>\n",
       "    <tr style=\"text-align: right;\">\n",
       "      <th></th>\n",
       "      <th>restaurant</th>\n",
       "      <th>review_heading</th>\n",
       "      <th>review_text</th>\n",
       "      <th>review_rating</th>\n",
       "      <th>restaurant_label</th>\n",
       "    </tr>\n",
       "  </thead>\n",
       "  <tbody>\n",
       "    <tr>\n",
       "      <th>2218</th>\n",
       "      <td>Anjappar Authentic Chettinaad Restaurant</td>\n",
       "      <td>NaN</td>\n",
       "      <td>We went to this restaurant for lunch with our ...</td>\n",
       "      <td>5.0</td>\n",
       "      <td>4</td>\n",
       "    </tr>\n",
       "    <tr>\n",
       "      <th>24725</th>\n",
       "      <td>Malaysian Food Street</td>\n",
       "      <td>NaN</td>\n",
       "      <td>Tried the chicken rice balls, lor bak and curr...</td>\n",
       "      <td>3.5</td>\n",
       "      <td>70</td>\n",
       "    </tr>\n",
       "  </tbody>\n",
       "</table>\n",
       "</div>"
      ],
      "text/plain": [
       "                                     restaurant review_heading  \\\n",
       "2218   Anjappar Authentic Chettinaad Restaurant            NaN   \n",
       "24725                     Malaysian Food Street            NaN   \n",
       "\n",
       "                                             review_text  review_rating  \\\n",
       "2218   We went to this restaurant for lunch with our ...            5.0   \n",
       "24725  Tried the chicken rice balls, lor bak and curr...            3.5   \n",
       "\n",
       "       restaurant_label  \n",
       "2218                  4  \n",
       "24725                70  "
      ]
     },
     "execution_count": 25,
     "metadata": {},
     "output_type": "execute_result"
    }
   ],
   "source": [
    "cleaned_reviews[cleaned_reviews['review_heading'].isnull()]"
   ]
  },
  {
   "cell_type": "markdown",
   "id": "0e327247-bb12-4c01-800a-f76002545cae",
   "metadata": {
    "tags": []
   },
   "source": [
    "## Clean and lemmatize text data using TextCleaner"
   ]
  },
  {
   "cell_type": "code",
   "execution_count": 26,
   "id": "c2b2a041-8151-4b1e-ab77-4ad38a16cb3c",
   "metadata": {
    "tags": []
   },
   "outputs": [
    {
     "name": "stderr",
     "output_type": "stream",
     "text": [
      "/Users/liyenauseff/Desktop/DSIF-11/projects/capstone/tripadvisor/notebooks/text_cleaner.py:19: MarkupResemblesLocatorWarning: The input looks more like a filename than markup. You may want to open this file and pass the filehandle into Beautiful Soup.\n",
      "  text = BeautifulSoup(str(raw_text), features=\"lxml\").get_text()\n",
      "/Users/liyenauseff/Desktop/DSIF-11/projects/capstone/tripadvisor/notebooks/text_cleaner.py:19: MarkupResemblesLocatorWarning: The input looks more like a filename than markup. You may want to open this file and pass the filehandle into Beautiful Soup.\n",
      "  text = BeautifulSoup(str(raw_text), features=\"lxml\").get_text()\n"
     ]
    },
    {
     "name": "stdout",
     "output_type": "stream",
     "text": [
      "CPU times: user 4min 46s, sys: 1.39 s, total: 4min 48s\n",
      "Wall time: 4min 48s\n"
     ]
    }
   ],
   "source": [
    "%%time\n",
    "\n",
    "cleaner = TextCleaner(cleaned_reviews, \"review_text\")\n",
    "\n",
    "# Clean and lemmatize text\n",
    "cleaner.clean_lemmatize_text()\n",
    "\n",
    "cleaner.clean_lemmatize_header()\n",
    "\n",
    "# Access the DataFrame with cleaned and lemmatized text\n",
    "cleaned_reviews = cleaner.df"
   ]
  },
  {
   "cell_type": "code",
   "execution_count": 27,
   "id": "5613aa70-4e1e-4515-9e4e-a39d15c0176f",
   "metadata": {
    "tags": []
   },
   "outputs": [
    {
     "data": {
      "text/html": [
       "<div>\n",
       "<style scoped>\n",
       "    .dataframe tbody tr th:only-of-type {\n",
       "        vertical-align: middle;\n",
       "    }\n",
       "\n",
       "    .dataframe tbody tr th {\n",
       "        vertical-align: top;\n",
       "    }\n",
       "\n",
       "    .dataframe thead th {\n",
       "        text-align: right;\n",
       "    }\n",
       "</style>\n",
       "<table border=\"1\" class=\"dataframe\">\n",
       "  <thead>\n",
       "    <tr style=\"text-align: right;\">\n",
       "      <th></th>\n",
       "      <th>restaurant</th>\n",
       "      <th>review_heading</th>\n",
       "      <th>review_text</th>\n",
       "      <th>review_rating</th>\n",
       "      <th>restaurant_label</th>\n",
       "      <th>cleaned_text</th>\n",
       "      <th>cleaned_lem_text</th>\n",
       "      <th>word_count</th>\n",
       "      <th>cleaned_heading</th>\n",
       "      <th>cleaned_lem_heading</th>\n",
       "    </tr>\n",
       "  </thead>\n",
       "  <tbody>\n",
       "    <tr>\n",
       "      <th>0</th>\n",
       "      <td>Entre Nous creperie</td>\n",
       "      <td>Wonderfully consistent</td>\n",
       "      <td>I’ve come to entre nous periodically over the ...</td>\n",
       "      <td>5.0</td>\n",
       "      <td>0</td>\n",
       "      <td>come entre nous periodically past years seems ...</td>\n",
       "      <td>come entre nous periodically past year seem se...</td>\n",
       "      <td>47</td>\n",
       "      <td>wonderfully consistent</td>\n",
       "      <td>wonderfully consistent</td>\n",
       "    </tr>\n",
       "    <tr>\n",
       "      <th>1</th>\n",
       "      <td>Entre Nous creperie</td>\n",
       "      <td>Don’t miss the French Galettes and Crepes</td>\n",
       "      <td>Absolutely delicious…\\nThe menu is lovely and ...</td>\n",
       "      <td>5.0</td>\n",
       "      <td>0</td>\n",
       "      <td>absolutely delicious menu lovely offers except...</td>\n",
       "      <td>absolutely delicious menu lovely offer excepti...</td>\n",
       "      <td>42</td>\n",
       "      <td>miss french galettes crepes</td>\n",
       "      <td>miss french galette crepe</td>\n",
       "    </tr>\n",
       "    <tr>\n",
       "      <th>2</th>\n",
       "      <td>Entre Nous creperie</td>\n",
       "      <td>Lovely French restaurant - excellent for glute...</td>\n",
       "      <td>Thank you so much for choosing entre nous crep...</td>\n",
       "      <td>5.0</td>\n",
       "      <td>0</td>\n",
       "      <td>thank much choosing entre nous creperie recent...</td>\n",
       "      <td>thank much choose entre nous creperie recently...</td>\n",
       "      <td>45</td>\n",
       "      <td>lovely french restaurant excellent gluten free</td>\n",
       "      <td>lovely french restaurant excellent gluten free</td>\n",
       "    </tr>\n",
       "    <tr>\n",
       "      <th>3</th>\n",
       "      <td>Entre Nous creperie</td>\n",
       "      <td>A simple yet delicious &amp; authentic brunch.</td>\n",
       "      <td>Lovely little French restaurant, really authen...</td>\n",
       "      <td>4.5</td>\n",
       "      <td>0</td>\n",
       "      <td>lovely little french restaurant really authent...</td>\n",
       "      <td>lovely little french restaurant really authent...</td>\n",
       "      <td>45</td>\n",
       "      <td>simple yet delicious authentic brunch</td>\n",
       "      <td>simple yet delicious authentic brunch</td>\n",
       "    </tr>\n",
       "    <tr>\n",
       "      <th>4</th>\n",
       "      <td>Entre Nous creperie</td>\n",
       "      <td>A trip to brittany</td>\n",
       "      <td>Dear Rebecca,\\n\\nThank you very much for dinin...</td>\n",
       "      <td>4.0</td>\n",
       "      <td>0</td>\n",
       "      <td>dear rebecca thank much dining entre nous crep...</td>\n",
       "      <td>dear rebecca thank much dining entre nous crep...</td>\n",
       "      <td>45</td>\n",
       "      <td>trip brittany</td>\n",
       "      <td>trip brittany</td>\n",
       "    </tr>\n",
       "  </tbody>\n",
       "</table>\n",
       "</div>"
      ],
      "text/plain": [
       "            restaurant                                     review_heading  \\\n",
       "0  Entre Nous creperie                             Wonderfully consistent   \n",
       "1  Entre Nous creperie          Don’t miss the French Galettes and Crepes   \n",
       "2  Entre Nous creperie  Lovely French restaurant - excellent for glute...   \n",
       "3  Entre Nous creperie         A simple yet delicious & authentic brunch.   \n",
       "4  Entre Nous creperie                                 A trip to brittany   \n",
       "\n",
       "                                         review_text  review_rating  \\\n",
       "0  I’ve come to entre nous periodically over the ...            5.0   \n",
       "1  Absolutely delicious…\\nThe menu is lovely and ...            5.0   \n",
       "2  Thank you so much for choosing entre nous crep...            5.0   \n",
       "3  Lovely little French restaurant, really authen...            4.5   \n",
       "4  Dear Rebecca,\\n\\nThank you very much for dinin...            4.0   \n",
       "\n",
       "   restaurant_label                                       cleaned_text  \\\n",
       "0                 0  come entre nous periodically past years seems ...   \n",
       "1                 0  absolutely delicious menu lovely offers except...   \n",
       "2                 0  thank much choosing entre nous creperie recent...   \n",
       "3                 0  lovely little french restaurant really authent...   \n",
       "4                 0  dear rebecca thank much dining entre nous crep...   \n",
       "\n",
       "                                    cleaned_lem_text  word_count  \\\n",
       "0  come entre nous periodically past year seem se...          47   \n",
       "1  absolutely delicious menu lovely offer excepti...          42   \n",
       "2  thank much choose entre nous creperie recently...          45   \n",
       "3  lovely little french restaurant really authent...          45   \n",
       "4  dear rebecca thank much dining entre nous crep...          45   \n",
       "\n",
       "                                  cleaned_heading  \\\n",
       "0                          wonderfully consistent   \n",
       "1                     miss french galettes crepes   \n",
       "2  lovely french restaurant excellent gluten free   \n",
       "3           simple yet delicious authentic brunch   \n",
       "4                                   trip brittany   \n",
       "\n",
       "                              cleaned_lem_heading  \n",
       "0                          wonderfully consistent  \n",
       "1                       miss french galette crepe  \n",
       "2  lovely french restaurant excellent gluten free  \n",
       "3           simple yet delicious authentic brunch  \n",
       "4                                   trip brittany  "
      ]
     },
     "execution_count": 27,
     "metadata": {},
     "output_type": "execute_result"
    }
   ],
   "source": [
    "# a preview of the cleaned reviews\n",
    "\n",
    "cleaned_reviews.head()"
   ]
  },
  {
   "cell_type": "markdown",
   "id": "82eaa7ed-4efb-477a-ad62-daa3777bf1ea",
   "metadata": {},
   "source": [
    "To have a better understanding of what is done when the raw text is cleaned and them lemmatized, we will make a comparison before and after a review is cleaned."
   ]
  },
  {
   "cell_type": "code",
   "execution_count": 28,
   "id": "3e85136c-174d-4875-a9d9-282815ca7d3c",
   "metadata": {
    "tags": []
   },
   "outputs": [
    {
     "data": {
      "text/html": [
       "<div>\n",
       "<style scoped>\n",
       "    .dataframe tbody tr th:only-of-type {\n",
       "        vertical-align: middle;\n",
       "    }\n",
       "\n",
       "    .dataframe tbody tr th {\n",
       "        vertical-align: top;\n",
       "    }\n",
       "\n",
       "    .dataframe thead th {\n",
       "        text-align: right;\n",
       "    }\n",
       "</style>\n",
       "<table border=\"1\" class=\"dataframe\">\n",
       "  <thead>\n",
       "    <tr style=\"text-align: right;\">\n",
       "      <th></th>\n",
       "      <th>review_text</th>\n",
       "      <th>cleaned_text</th>\n",
       "      <th>cleaned_lem_text</th>\n",
       "    </tr>\n",
       "  </thead>\n",
       "  <tbody>\n",
       "    <tr>\n",
       "      <th>0</th>\n",
       "      <td>I’ve come to entre nous periodically over the ...</td>\n",
       "      <td>come entre nous periodically past years seems ...</td>\n",
       "      <td>come entre nous periodically past year seem se...</td>\n",
       "    </tr>\n",
       "    <tr>\n",
       "      <th>1</th>\n",
       "      <td>Absolutely delicious…\\nThe menu is lovely and ...</td>\n",
       "      <td>absolutely delicious menu lovely offers except...</td>\n",
       "      <td>absolutely delicious menu lovely offer excepti...</td>\n",
       "    </tr>\n",
       "    <tr>\n",
       "      <th>2</th>\n",
       "      <td>Thank you so much for choosing entre nous crep...</td>\n",
       "      <td>thank much choosing entre nous creperie recent...</td>\n",
       "      <td>thank much choose entre nous creperie recently...</td>\n",
       "    </tr>\n",
       "    <tr>\n",
       "      <th>3</th>\n",
       "      <td>Lovely little French restaurant, really authen...</td>\n",
       "      <td>lovely little french restaurant really authent...</td>\n",
       "      <td>lovely little french restaurant really authent...</td>\n",
       "    </tr>\n",
       "    <tr>\n",
       "      <th>4</th>\n",
       "      <td>Dear Rebecca,\\n\\nThank you very much for dinin...</td>\n",
       "      <td>dear rebecca thank much dining entre nous crep...</td>\n",
       "      <td>dear rebecca thank much dining entre nous crep...</td>\n",
       "    </tr>\n",
       "    <tr>\n",
       "      <th>...</th>\n",
       "      <td>...</td>\n",
       "      <td>...</td>\n",
       "      <td>...</td>\n",
       "    </tr>\n",
       "    <tr>\n",
       "      <th>40942</th>\n",
       "      <td>Chao Shan serves one of the best authentic Teo...</td>\n",
       "      <td>chao serves one best authentic teochew cuisine...</td>\n",
       "      <td>chao serve one good authentic teochew cuisine ...</td>\n",
       "    </tr>\n",
       "    <tr>\n",
       "      <th>40943</th>\n",
       "      <td>We loved all the dishes we had! If you can, or...</td>\n",
       "      <td>loved dishes order suckling pig advance regret...</td>\n",
       "      <td>love dish order suckle pig advance regret also...</td>\n",
       "    </tr>\n",
       "    <tr>\n",
       "      <th>40944</th>\n",
       "      <td>This country is not famous for its cuisines be...</td>\n",
       "      <td>country famous cuisines melting nation opp res...</td>\n",
       "      <td>country famous cuisine melt nation opp restaur...</td>\n",
       "    </tr>\n",
       "    <tr>\n",
       "      <th>40945</th>\n",
       "      <td>Making a reservation is highly recommended, as...</td>\n",
       "      <td>making reservation highly recommended inside s...</td>\n",
       "      <td>make reservation highly recommend inside seat ...</td>\n",
       "    </tr>\n",
       "    <tr>\n",
       "      <th>40946</th>\n",
       "      <td>Introduced by a good friend, I have tried the ...</td>\n",
       "      <td>introduced good friend tried food restaurant t...</td>\n",
       "      <td>introduce good friend try food restaurant twic...</td>\n",
       "    </tr>\n",
       "  </tbody>\n",
       "</table>\n",
       "<p>40947 rows × 3 columns</p>\n",
       "</div>"
      ],
      "text/plain": [
       "                                             review_text  \\\n",
       "0      I’ve come to entre nous periodically over the ...   \n",
       "1      Absolutely delicious…\\nThe menu is lovely and ...   \n",
       "2      Thank you so much for choosing entre nous crep...   \n",
       "3      Lovely little French restaurant, really authen...   \n",
       "4      Dear Rebecca,\\n\\nThank you very much for dinin...   \n",
       "...                                                  ...   \n",
       "40942  Chao Shan serves one of the best authentic Teo...   \n",
       "40943  We loved all the dishes we had! If you can, or...   \n",
       "40944  This country is not famous for its cuisines be...   \n",
       "40945  Making a reservation is highly recommended, as...   \n",
       "40946  Introduced by a good friend, I have tried the ...   \n",
       "\n",
       "                                            cleaned_text  \\\n",
       "0      come entre nous periodically past years seems ...   \n",
       "1      absolutely delicious menu lovely offers except...   \n",
       "2      thank much choosing entre nous creperie recent...   \n",
       "3      lovely little french restaurant really authent...   \n",
       "4      dear rebecca thank much dining entre nous crep...   \n",
       "...                                                  ...   \n",
       "40942  chao serves one best authentic teochew cuisine...   \n",
       "40943  loved dishes order suckling pig advance regret...   \n",
       "40944  country famous cuisines melting nation opp res...   \n",
       "40945  making reservation highly recommended inside s...   \n",
       "40946  introduced good friend tried food restaurant t...   \n",
       "\n",
       "                                        cleaned_lem_text  \n",
       "0      come entre nous periodically past year seem se...  \n",
       "1      absolutely delicious menu lovely offer excepti...  \n",
       "2      thank much choose entre nous creperie recently...  \n",
       "3      lovely little french restaurant really authent...  \n",
       "4      dear rebecca thank much dining entre nous crep...  \n",
       "...                                                  ...  \n",
       "40942  chao serve one good authentic teochew cuisine ...  \n",
       "40943  love dish order suckle pig advance regret also...  \n",
       "40944  country famous cuisine melt nation opp restaur...  \n",
       "40945  make reservation highly recommend inside seat ...  \n",
       "40946  introduce good friend try food restaurant twic...  \n",
       "\n",
       "[40947 rows x 3 columns]"
      ]
     },
     "execution_count": 28,
     "metadata": {},
     "output_type": "execute_result"
    }
   ],
   "source": [
    "cleaned_reviews[['review_text', 'cleaned_text', 'cleaned_lem_text']]"
   ]
  },
  {
   "cell_type": "code",
   "execution_count": 29,
   "id": "c34329b7-bb2a-4e94-aa23-a2399fdd2fb1",
   "metadata": {
    "tags": []
   },
   "outputs": [
    {
     "name": "stdout",
     "output_type": "stream",
     "text": [
      "review_text: I’ve come to entre nous periodically over the past 10 years it seems and the service and food have always been consistently great. Geraldine and her husband are clearly invested in maintaining the highest standards and I’m so happy the restaurant is still going strong...even through COVID.More\n",
      "\n",
      "\n",
      "cleaned_text: come entre nous periodically past years seems service food always consistently great geraldine husband clearly invested maintaining highest standards happy restaurant still going strong even covid\n",
      "\n",
      "\n",
      "cleaned_lem_text: come entre nous periodically past year seem service food always consistently great geraldine husband clearly invest maintain high standard happy restaurant still go strong even covid\n",
      "\n",
      "\n"
     ]
    }
   ],
   "source": [
    "# by taking the first review\n",
    "\n",
    "first_index_texts = cleaned_reviews.loc[0, ['review_text', 'cleaned_text', 'cleaned_lem_text']]\n",
    "\n",
    "# Print the texts\n",
    "for col, text in first_index_texts.items():\n",
    "    print(f\"{col}: {text}\")\n",
    "    print(f\"\\n\")"
   ]
  },
  {
   "cell_type": "markdown",
   "id": "f52b9a62-90a4-4017-835c-dbc78ffa1494",
   "metadata": {},
   "source": [
    "Firstly, comparing review_text and cleaned_text, words with conjunctions like 'I've' and 'I'm' were removed as well as numbers and stopwords such as 'over' and 'it'.\n",
    "\n",
    "Next, comparing cleaned_text and cleaned_lem_text, here are some of the differences in the words pre-lemmatization and after lemmatization:\n",
    "\n",
    "|pre-lemmatization|after lemmatization|\n",
    "|-----------------|-------------------|\n",
    "| years | year |\n",
    "| seems | seem |\n",
    "| invested | invest |\n",
    "| maintaining | maintain |\n",
    "| highest | high |\n",
    "\n",
    "Moving on..."
   ]
  },
  {
   "cell_type": "code",
   "execution_count": 30,
   "id": "96a83990-330f-40d4-b080-034cdfb59055",
   "metadata": {
    "tags": []
   },
   "outputs": [],
   "source": [
    "cleaned_reviews['cleaned'] = cleaned_reviews['cleaned_lem_text'] + cleaned_reviews['cleaned_lem_heading']"
   ]
  },
  {
   "cell_type": "code",
   "execution_count": 31,
   "id": "b7429b2c-70e3-47cd-97dd-8acb9466e8c6",
   "metadata": {
    "tags": []
   },
   "outputs": [
    {
     "data": {
      "text/html": [
       "<div>\n",
       "<style scoped>\n",
       "    .dataframe tbody tr th:only-of-type {\n",
       "        vertical-align: middle;\n",
       "    }\n",
       "\n",
       "    .dataframe tbody tr th {\n",
       "        vertical-align: top;\n",
       "    }\n",
       "\n",
       "    .dataframe thead th {\n",
       "        text-align: right;\n",
       "    }\n",
       "</style>\n",
       "<table border=\"1\" class=\"dataframe\">\n",
       "  <thead>\n",
       "    <tr style=\"text-align: right;\">\n",
       "      <th></th>\n",
       "      <th>restaurant</th>\n",
       "      <th>review_heading</th>\n",
       "      <th>review_text</th>\n",
       "      <th>review_rating</th>\n",
       "      <th>restaurant_label</th>\n",
       "      <th>cleaned_text</th>\n",
       "      <th>cleaned_lem_text</th>\n",
       "      <th>word_count</th>\n",
       "      <th>cleaned_heading</th>\n",
       "      <th>cleaned_lem_heading</th>\n",
       "      <th>cleaned</th>\n",
       "    </tr>\n",
       "  </thead>\n",
       "  <tbody>\n",
       "    <tr>\n",
       "      <th>0</th>\n",
       "      <td>Entre Nous creperie</td>\n",
       "      <td>Wonderfully consistent</td>\n",
       "      <td>I’ve come to entre nous periodically over the ...</td>\n",
       "      <td>5.0</td>\n",
       "      <td>0</td>\n",
       "      <td>come entre nous periodically past years seems ...</td>\n",
       "      <td>come entre nous periodically past year seem se...</td>\n",
       "      <td>47</td>\n",
       "      <td>wonderfully consistent</td>\n",
       "      <td>wonderfully consistent</td>\n",
       "      <td>come entre nous periodically past year seem se...</td>\n",
       "    </tr>\n",
       "    <tr>\n",
       "      <th>1</th>\n",
       "      <td>Entre Nous creperie</td>\n",
       "      <td>Don’t miss the French Galettes and Crepes</td>\n",
       "      <td>Absolutely delicious…\\nThe menu is lovely and ...</td>\n",
       "      <td>5.0</td>\n",
       "      <td>0</td>\n",
       "      <td>absolutely delicious menu lovely offers except...</td>\n",
       "      <td>absolutely delicious menu lovely offer excepti...</td>\n",
       "      <td>42</td>\n",
       "      <td>miss french galettes crepes</td>\n",
       "      <td>miss french galette crepe</td>\n",
       "      <td>absolutely delicious menu lovely offer excepti...</td>\n",
       "    </tr>\n",
       "    <tr>\n",
       "      <th>2</th>\n",
       "      <td>Entre Nous creperie</td>\n",
       "      <td>Lovely French restaurant - excellent for glute...</td>\n",
       "      <td>Thank you so much for choosing entre nous crep...</td>\n",
       "      <td>5.0</td>\n",
       "      <td>0</td>\n",
       "      <td>thank much choosing entre nous creperie recent...</td>\n",
       "      <td>thank much choose entre nous creperie recently...</td>\n",
       "      <td>45</td>\n",
       "      <td>lovely french restaurant excellent gluten free</td>\n",
       "      <td>lovely french restaurant excellent gluten free</td>\n",
       "      <td>thank much choose entre nous creperie recently...</td>\n",
       "    </tr>\n",
       "    <tr>\n",
       "      <th>3</th>\n",
       "      <td>Entre Nous creperie</td>\n",
       "      <td>A simple yet delicious &amp; authentic brunch.</td>\n",
       "      <td>Lovely little French restaurant, really authen...</td>\n",
       "      <td>4.5</td>\n",
       "      <td>0</td>\n",
       "      <td>lovely little french restaurant really authent...</td>\n",
       "      <td>lovely little french restaurant really authent...</td>\n",
       "      <td>45</td>\n",
       "      <td>simple yet delicious authentic brunch</td>\n",
       "      <td>simple yet delicious authentic brunch</td>\n",
       "      <td>lovely little french restaurant really authent...</td>\n",
       "    </tr>\n",
       "    <tr>\n",
       "      <th>4</th>\n",
       "      <td>Entre Nous creperie</td>\n",
       "      <td>A trip to brittany</td>\n",
       "      <td>Dear Rebecca,\\n\\nThank you very much for dinin...</td>\n",
       "      <td>4.0</td>\n",
       "      <td>0</td>\n",
       "      <td>dear rebecca thank much dining entre nous crep...</td>\n",
       "      <td>dear rebecca thank much dining entre nous crep...</td>\n",
       "      <td>45</td>\n",
       "      <td>trip brittany</td>\n",
       "      <td>trip brittany</td>\n",
       "      <td>dear rebecca thank much dining entre nous crep...</td>\n",
       "    </tr>\n",
       "  </tbody>\n",
       "</table>\n",
       "</div>"
      ],
      "text/plain": [
       "            restaurant                                     review_heading  \\\n",
       "0  Entre Nous creperie                             Wonderfully consistent   \n",
       "1  Entre Nous creperie          Don’t miss the French Galettes and Crepes   \n",
       "2  Entre Nous creperie  Lovely French restaurant - excellent for glute...   \n",
       "3  Entre Nous creperie         A simple yet delicious & authentic brunch.   \n",
       "4  Entre Nous creperie                                 A trip to brittany   \n",
       "\n",
       "                                         review_text  review_rating  \\\n",
       "0  I’ve come to entre nous periodically over the ...            5.0   \n",
       "1  Absolutely delicious…\\nThe menu is lovely and ...            5.0   \n",
       "2  Thank you so much for choosing entre nous crep...            5.0   \n",
       "3  Lovely little French restaurant, really authen...            4.5   \n",
       "4  Dear Rebecca,\\n\\nThank you very much for dinin...            4.0   \n",
       "\n",
       "   restaurant_label                                       cleaned_text  \\\n",
       "0                 0  come entre nous periodically past years seems ...   \n",
       "1                 0  absolutely delicious menu lovely offers except...   \n",
       "2                 0  thank much choosing entre nous creperie recent...   \n",
       "3                 0  lovely little french restaurant really authent...   \n",
       "4                 0  dear rebecca thank much dining entre nous crep...   \n",
       "\n",
       "                                    cleaned_lem_text  word_count  \\\n",
       "0  come entre nous periodically past year seem se...          47   \n",
       "1  absolutely delicious menu lovely offer excepti...          42   \n",
       "2  thank much choose entre nous creperie recently...          45   \n",
       "3  lovely little french restaurant really authent...          45   \n",
       "4  dear rebecca thank much dining entre nous crep...          45   \n",
       "\n",
       "                                  cleaned_heading  \\\n",
       "0                          wonderfully consistent   \n",
       "1                     miss french galettes crepes   \n",
       "2  lovely french restaurant excellent gluten free   \n",
       "3           simple yet delicious authentic brunch   \n",
       "4                                   trip brittany   \n",
       "\n",
       "                              cleaned_lem_heading  \\\n",
       "0                          wonderfully consistent   \n",
       "1                       miss french galette crepe   \n",
       "2  lovely french restaurant excellent gluten free   \n",
       "3           simple yet delicious authentic brunch   \n",
       "4                                   trip brittany   \n",
       "\n",
       "                                             cleaned  \n",
       "0  come entre nous periodically past year seem se...  \n",
       "1  absolutely delicious menu lovely offer excepti...  \n",
       "2  thank much choose entre nous creperie recently...  \n",
       "3  lovely little french restaurant really authent...  \n",
       "4  dear rebecca thank much dining entre nous crep...  "
      ]
     },
     "execution_count": 31,
     "metadata": {},
     "output_type": "execute_result"
    }
   ],
   "source": [
    "cleaned_reviews.head()"
   ]
  },
  {
   "cell_type": "code",
   "execution_count": 32,
   "id": "034d7e55-b122-4fa9-a958-d6db67253596",
   "metadata": {
    "tags": []
   },
   "outputs": [
    {
     "name": "stdout",
     "output_type": "stream",
     "text": [
      "<class 'pandas.core.frame.DataFrame'>\n",
      "RangeIndex: 40947 entries, 0 to 40946\n",
      "Data columns (total 11 columns):\n",
      " #   Column               Non-Null Count  Dtype  \n",
      "---  ------               --------------  -----  \n",
      " 0   restaurant           40947 non-null  object \n",
      " 1   review_heading       40945 non-null  object \n",
      " 2   review_text          40947 non-null  object \n",
      " 3   review_rating        40947 non-null  float64\n",
      " 4   restaurant_label     40947 non-null  int64  \n",
      " 5   cleaned_text         40947 non-null  object \n",
      " 6   cleaned_lem_text     40947 non-null  object \n",
      " 7   word_count           40947 non-null  int64  \n",
      " 8   cleaned_heading      40945 non-null  object \n",
      " 9   cleaned_lem_heading  40945 non-null  object \n",
      " 10  cleaned              40945 non-null  object \n",
      "dtypes: float64(1), int64(2), object(8)\n",
      "memory usage: 3.4+ MB\n"
     ]
    }
   ],
   "source": [
    "cleaned_reviews.info()"
   ]
  },
  {
   "cell_type": "code",
   "execution_count": 36,
   "id": "324c8e58-3bd6-41bd-9506-b75a9648389d",
   "metadata": {
    "tags": []
   },
   "outputs": [
    {
     "data": {
      "text/html": [
       "<div>\n",
       "<style scoped>\n",
       "    .dataframe tbody tr th:only-of-type {\n",
       "        vertical-align: middle;\n",
       "    }\n",
       "\n",
       "    .dataframe tbody tr th {\n",
       "        vertical-align: top;\n",
       "    }\n",
       "\n",
       "    .dataframe thead th {\n",
       "        text-align: right;\n",
       "    }\n",
       "</style>\n",
       "<table border=\"1\" class=\"dataframe\">\n",
       "  <thead>\n",
       "    <tr style=\"text-align: right;\">\n",
       "      <th></th>\n",
       "      <th>restaurant</th>\n",
       "      <th>review_heading</th>\n",
       "      <th>review_text</th>\n",
       "      <th>review_rating</th>\n",
       "      <th>restaurant_label</th>\n",
       "      <th>cleaned_text</th>\n",
       "      <th>cleaned_lem_text</th>\n",
       "      <th>word_count</th>\n",
       "      <th>cleaned_heading</th>\n",
       "      <th>cleaned_lem_heading</th>\n",
       "      <th>cleaned</th>\n",
       "    </tr>\n",
       "  </thead>\n",
       "  <tbody>\n",
       "    <tr>\n",
       "      <th>2218</th>\n",
       "      <td>Anjappar Authentic Chettinaad Restaurant</td>\n",
       "      <td>NaN</td>\n",
       "      <td>We went to this restaurant for lunch with our ...</td>\n",
       "      <td>5.0</td>\n",
       "      <td>4</td>\n",
       "      <td>went restaurant lunch office friends enjoyed f...</td>\n",
       "      <td>go restaurant lunch office friend enjoy food e...</td>\n",
       "      <td>31</td>\n",
       "      <td>NaN</td>\n",
       "      <td>NaN</td>\n",
       "      <td>NaN</td>\n",
       "    </tr>\n",
       "    <tr>\n",
       "      <th>24725</th>\n",
       "      <td>Malaysian Food Street</td>\n",
       "      <td>NaN</td>\n",
       "      <td>Tried the chicken rice balls, lor bak and curr...</td>\n",
       "      <td>3.5</td>\n",
       "      <td>70</td>\n",
       "      <td>tried chicken rice balls lor bak curry mee thr...</td>\n",
       "      <td>try chicken rice ball lor bak curry mee three ...</td>\n",
       "      <td>45</td>\n",
       "      <td>NaN</td>\n",
       "      <td>NaN</td>\n",
       "      <td>NaN</td>\n",
       "    </tr>\n",
       "  </tbody>\n",
       "</table>\n",
       "</div>"
      ],
      "text/plain": [
       "                                     restaurant review_heading  \\\n",
       "2218   Anjappar Authentic Chettinaad Restaurant            NaN   \n",
       "24725                     Malaysian Food Street            NaN   \n",
       "\n",
       "                                             review_text  review_rating  \\\n",
       "2218   We went to this restaurant for lunch with our ...            5.0   \n",
       "24725  Tried the chicken rice balls, lor bak and curr...            3.5   \n",
       "\n",
       "       restaurant_label                                       cleaned_text  \\\n",
       "2218                  4  went restaurant lunch office friends enjoyed f...   \n",
       "24725                70  tried chicken rice balls lor bak curry mee thr...   \n",
       "\n",
       "                                        cleaned_lem_text  word_count  \\\n",
       "2218   go restaurant lunch office friend enjoy food e...          31   \n",
       "24725  try chicken rice ball lor bak curry mee three ...          45   \n",
       "\n",
       "      cleaned_heading cleaned_lem_heading cleaned  \n",
       "2218              NaN                 NaN     NaN  \n",
       "24725             NaN                 NaN     NaN  "
      ]
     },
     "execution_count": 36,
     "metadata": {},
     "output_type": "execute_result"
    }
   ],
   "source": [
    "cleaned_reviews[cleaned_reviews['review_heading'].isnull()]"
   ]
  },
  {
   "cell_type": "code",
   "execution_count": null,
   "id": "bb524f72-0c4e-4a25-9534-96cc631abc0f",
   "metadata": {},
   "outputs": [],
   "source": [
    "# since the review heading is null, the cleaned column for these rows will be the 'cleaned_lem_text'"
   ]
  },
  {
   "cell_type": "code",
   "execution_count": 40,
   "id": "cbab5030-cbb4-409c-b208-06a4997fd618",
   "metadata": {
    "tags": []
   },
   "outputs": [],
   "source": [
    "cleaned_reviews.loc[cleaned_reviews['review_heading'].isnull(), 'cleaned'] = cleaned_reviews.loc[cleaned_reviews['review_heading'].isnull(), 'cleaned_lem_text']"
   ]
  },
  {
   "cell_type": "code",
   "execution_count": 41,
   "id": "e1466318-a9c0-4e28-bd20-920bf3ab9ca5",
   "metadata": {
    "tags": []
   },
   "outputs": [
    {
     "name": "stdout",
     "output_type": "stream",
     "text": [
      "<class 'pandas.core.frame.DataFrame'>\n",
      "RangeIndex: 40947 entries, 0 to 40946\n",
      "Data columns (total 11 columns):\n",
      " #   Column               Non-Null Count  Dtype  \n",
      "---  ------               --------------  -----  \n",
      " 0   restaurant           40947 non-null  object \n",
      " 1   review_heading       40945 non-null  object \n",
      " 2   review_text          40947 non-null  object \n",
      " 3   review_rating        40947 non-null  float64\n",
      " 4   restaurant_label     40947 non-null  int64  \n",
      " 5   cleaned_text         40947 non-null  object \n",
      " 6   cleaned_lem_text     40947 non-null  object \n",
      " 7   word_count           40947 non-null  int64  \n",
      " 8   cleaned_heading      40945 non-null  object \n",
      " 9   cleaned_lem_heading  40945 non-null  object \n",
      " 10  cleaned              40947 non-null  object \n",
      "dtypes: float64(1), int64(2), object(8)\n",
      "memory usage: 3.4+ MB\n"
     ]
    }
   ],
   "source": [
    "cleaned_reviews.info()"
   ]
  },
  {
   "cell_type": "code",
   "execution_count": 42,
   "id": "a13cb78b-995d-44a0-a943-f28e601780a3",
   "metadata": {
    "tags": []
   },
   "outputs": [
    {
     "data": {
      "text/html": [
       "<div>\n",
       "<style scoped>\n",
       "    .dataframe tbody tr th:only-of-type {\n",
       "        vertical-align: middle;\n",
       "    }\n",
       "\n",
       "    .dataframe tbody tr th {\n",
       "        vertical-align: top;\n",
       "    }\n",
       "\n",
       "    .dataframe thead th {\n",
       "        text-align: right;\n",
       "    }\n",
       "</style>\n",
       "<table border=\"1\" class=\"dataframe\">\n",
       "  <thead>\n",
       "    <tr style=\"text-align: right;\">\n",
       "      <th></th>\n",
       "      <th>restaurant</th>\n",
       "      <th>review_heading</th>\n",
       "      <th>review_text</th>\n",
       "      <th>review_rating</th>\n",
       "      <th>restaurant_label</th>\n",
       "      <th>cleaned_text</th>\n",
       "      <th>cleaned_lem_text</th>\n",
       "      <th>word_count</th>\n",
       "      <th>cleaned_heading</th>\n",
       "      <th>cleaned_lem_heading</th>\n",
       "      <th>cleaned</th>\n",
       "    </tr>\n",
       "  </thead>\n",
       "  <tbody>\n",
       "    <tr>\n",
       "      <th>2218</th>\n",
       "      <td>Anjappar Authentic Chettinaad Restaurant</td>\n",
       "      <td>NaN</td>\n",
       "      <td>We went to this restaurant for lunch with our ...</td>\n",
       "      <td>5.0</td>\n",
       "      <td>4</td>\n",
       "      <td>went restaurant lunch office friends enjoyed f...</td>\n",
       "      <td>go restaurant lunch office friend enjoy food e...</td>\n",
       "      <td>31</td>\n",
       "      <td>NaN</td>\n",
       "      <td>NaN</td>\n",
       "      <td>go restaurant lunch office friend enjoy food e...</td>\n",
       "    </tr>\n",
       "    <tr>\n",
       "      <th>24725</th>\n",
       "      <td>Malaysian Food Street</td>\n",
       "      <td>NaN</td>\n",
       "      <td>Tried the chicken rice balls, lor bak and curr...</td>\n",
       "      <td>3.5</td>\n",
       "      <td>70</td>\n",
       "      <td>tried chicken rice balls lor bak curry mee thr...</td>\n",
       "      <td>try chicken rice ball lor bak curry mee three ...</td>\n",
       "      <td>45</td>\n",
       "      <td>NaN</td>\n",
       "      <td>NaN</td>\n",
       "      <td>try chicken rice ball lor bak curry mee three ...</td>\n",
       "    </tr>\n",
       "  </tbody>\n",
       "</table>\n",
       "</div>"
      ],
      "text/plain": [
       "                                     restaurant review_heading  \\\n",
       "2218   Anjappar Authentic Chettinaad Restaurant            NaN   \n",
       "24725                     Malaysian Food Street            NaN   \n",
       "\n",
       "                                             review_text  review_rating  \\\n",
       "2218   We went to this restaurant for lunch with our ...            5.0   \n",
       "24725  Tried the chicken rice balls, lor bak and curr...            3.5   \n",
       "\n",
       "       restaurant_label                                       cleaned_text  \\\n",
       "2218                  4  went restaurant lunch office friends enjoyed f...   \n",
       "24725                70  tried chicken rice balls lor bak curry mee thr...   \n",
       "\n",
       "                                        cleaned_lem_text  word_count  \\\n",
       "2218   go restaurant lunch office friend enjoy food e...          31   \n",
       "24725  try chicken rice ball lor bak curry mee three ...          45   \n",
       "\n",
       "      cleaned_heading cleaned_lem_heading  \\\n",
       "2218              NaN                 NaN   \n",
       "24725             NaN                 NaN   \n",
       "\n",
       "                                                 cleaned  \n",
       "2218   go restaurant lunch office friend enjoy food e...  \n",
       "24725  try chicken rice ball lor bak curry mee three ...  "
      ]
     },
     "execution_count": 42,
     "metadata": {},
     "output_type": "execute_result"
    }
   ],
   "source": [
    "cleaned_reviews[cleaned_reviews['review_heading'].isnull()]"
   ]
  },
  {
   "cell_type": "code",
   "execution_count": 43,
   "id": "92dfc229-248a-43e7-b3d2-7750999e1d37",
   "metadata": {
    "tags": []
   },
   "outputs": [],
   "source": [
    "cols_to_keep = ['restaurant', 'cleaned', 'word_count','review_rating',\n",
    "       'restaurant_label' \n",
    "        ]"
   ]
  },
  {
   "cell_type": "code",
   "execution_count": 44,
   "id": "9ee4b048-4b6b-47e4-b3d5-af13c0321a36",
   "metadata": {
    "tags": []
   },
   "outputs": [],
   "source": [
    "latest_data = cleaned_reviews[cols_to_keep]"
   ]
  },
  {
   "cell_type": "code",
   "execution_count": 45,
   "id": "e57c074c-d80d-4947-99fd-eb3dce1c7188",
   "metadata": {
    "tags": []
   },
   "outputs": [
    {
     "data": {
      "text/html": [
       "<div>\n",
       "<style scoped>\n",
       "    .dataframe tbody tr th:only-of-type {\n",
       "        vertical-align: middle;\n",
       "    }\n",
       "\n",
       "    .dataframe tbody tr th {\n",
       "        vertical-align: top;\n",
       "    }\n",
       "\n",
       "    .dataframe thead th {\n",
       "        text-align: right;\n",
       "    }\n",
       "</style>\n",
       "<table border=\"1\" class=\"dataframe\">\n",
       "  <thead>\n",
       "    <tr style=\"text-align: right;\">\n",
       "      <th></th>\n",
       "      <th>restaurant</th>\n",
       "      <th>cleaned</th>\n",
       "      <th>word_count</th>\n",
       "      <th>review_rating</th>\n",
       "      <th>restaurant_label</th>\n",
       "    </tr>\n",
       "  </thead>\n",
       "  <tbody>\n",
       "    <tr>\n",
       "      <th>0</th>\n",
       "      <td>Entre Nous creperie</td>\n",
       "      <td>come entre nous periodically past year seem se...</td>\n",
       "      <td>47</td>\n",
       "      <td>5.0</td>\n",
       "      <td>0</td>\n",
       "    </tr>\n",
       "    <tr>\n",
       "      <th>1</th>\n",
       "      <td>Entre Nous creperie</td>\n",
       "      <td>absolutely delicious menu lovely offer excepti...</td>\n",
       "      <td>42</td>\n",
       "      <td>5.0</td>\n",
       "      <td>0</td>\n",
       "    </tr>\n",
       "    <tr>\n",
       "      <th>2</th>\n",
       "      <td>Entre Nous creperie</td>\n",
       "      <td>thank much choose entre nous creperie recently...</td>\n",
       "      <td>45</td>\n",
       "      <td>5.0</td>\n",
       "      <td>0</td>\n",
       "    </tr>\n",
       "    <tr>\n",
       "      <th>3</th>\n",
       "      <td>Entre Nous creperie</td>\n",
       "      <td>lovely little french restaurant really authent...</td>\n",
       "      <td>45</td>\n",
       "      <td>4.5</td>\n",
       "      <td>0</td>\n",
       "    </tr>\n",
       "    <tr>\n",
       "      <th>4</th>\n",
       "      <td>Entre Nous creperie</td>\n",
       "      <td>dear rebecca thank much dining entre nous crep...</td>\n",
       "      <td>45</td>\n",
       "      <td>4.0</td>\n",
       "      <td>0</td>\n",
       "    </tr>\n",
       "    <tr>\n",
       "      <th>...</th>\n",
       "      <td>...</td>\n",
       "      <td>...</td>\n",
       "      <td>...</td>\n",
       "      <td>...</td>\n",
       "      <td>...</td>\n",
       "    </tr>\n",
       "    <tr>\n",
       "      <th>40942</th>\n",
       "      <td>Chao San Cuisine</td>\n",
       "      <td>chao serve one good authentic teochew cuisine ...</td>\n",
       "      <td>45</td>\n",
       "      <td>4.0</td>\n",
       "      <td>146</td>\n",
       "    </tr>\n",
       "    <tr>\n",
       "      <th>40943</th>\n",
       "      <td>Chao San Cuisine</td>\n",
       "      <td>love dish order suckle pig advance regret also...</td>\n",
       "      <td>45</td>\n",
       "      <td>4.0</td>\n",
       "      <td>146</td>\n",
       "    </tr>\n",
       "    <tr>\n",
       "      <th>40944</th>\n",
       "      <td>Chao San Cuisine</td>\n",
       "      <td>country famous cuisine melt nation opp restaur...</td>\n",
       "      <td>33</td>\n",
       "      <td>4.0</td>\n",
       "      <td>146</td>\n",
       "    </tr>\n",
       "    <tr>\n",
       "      <th>40945</th>\n",
       "      <td>Chao San Cuisine</td>\n",
       "      <td>make reservation highly recommend inside seat ...</td>\n",
       "      <td>45</td>\n",
       "      <td>4.0</td>\n",
       "      <td>146</td>\n",
       "    </tr>\n",
       "    <tr>\n",
       "      <th>40946</th>\n",
       "      <td>Chao San Cuisine</td>\n",
       "      <td>introduce good friend try food restaurant twic...</td>\n",
       "      <td>45</td>\n",
       "      <td>4.0</td>\n",
       "      <td>146</td>\n",
       "    </tr>\n",
       "  </tbody>\n",
       "</table>\n",
       "<p>40947 rows × 5 columns</p>\n",
       "</div>"
      ],
      "text/plain": [
       "                restaurant                                            cleaned  \\\n",
       "0      Entre Nous creperie  come entre nous periodically past year seem se...   \n",
       "1      Entre Nous creperie  absolutely delicious menu lovely offer excepti...   \n",
       "2      Entre Nous creperie  thank much choose entre nous creperie recently...   \n",
       "3      Entre Nous creperie  lovely little french restaurant really authent...   \n",
       "4      Entre Nous creperie  dear rebecca thank much dining entre nous crep...   \n",
       "...                    ...                                                ...   \n",
       "40942     Chao San Cuisine  chao serve one good authentic teochew cuisine ...   \n",
       "40943     Chao San Cuisine  love dish order suckle pig advance regret also...   \n",
       "40944     Chao San Cuisine  country famous cuisine melt nation opp restaur...   \n",
       "40945     Chao San Cuisine  make reservation highly recommend inside seat ...   \n",
       "40946     Chao San Cuisine  introduce good friend try food restaurant twic...   \n",
       "\n",
       "       word_count  review_rating  restaurant_label  \n",
       "0              47            5.0                 0  \n",
       "1              42            5.0                 0  \n",
       "2              45            5.0                 0  \n",
       "3              45            4.5                 0  \n",
       "4              45            4.0                 0  \n",
       "...           ...            ...               ...  \n",
       "40942          45            4.0               146  \n",
       "40943          45            4.0               146  \n",
       "40944          33            4.0               146  \n",
       "40945          45            4.0               146  \n",
       "40946          45            4.0               146  \n",
       "\n",
       "[40947 rows x 5 columns]"
      ]
     },
     "execution_count": 45,
     "metadata": {},
     "output_type": "execute_result"
    }
   ],
   "source": [
    "latest_data"
   ]
  },
  {
   "cell_type": "code",
   "execution_count": 46,
   "id": "22d085b2-d80d-415c-9797-e3ed31caa857",
   "metadata": {
    "tags": []
   },
   "outputs": [],
   "source": [
    "# latest_data.to_csv(\"../data/cleaned_reviews.csv\")"
   ]
  },
  {
   "cell_type": "markdown",
   "id": "f31b8de6-4103-4cdf-9fe1-b1c720d3231c",
   "metadata": {},
   "source": [
    "## Next part\n",
    "\n",
    "[Part II - Exploratory Data Analysis](eda.ipynb)"
   ]
  }
 ],
 "metadata": {
  "kernelspec": {
   "display_name": "Python 3 (ipykernel)",
   "language": "python",
   "name": "python3"
  },
  "language_info": {
   "codemirror_mode": {
    "name": "ipython",
    "version": 3
   },
   "file_extension": ".py",
   "mimetype": "text/x-python",
   "name": "python",
   "nbconvert_exporter": "python",
   "pygments_lexer": "ipython3",
   "version": "3.11.5"
  }
 },
 "nbformat": 4,
 "nbformat_minor": 5
}
