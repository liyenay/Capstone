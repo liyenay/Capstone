{
 "cells": [
  {
   "cell_type": "markdown",
   "id": "056c0308-867d-4880-ab83-28682125ad1e",
   "metadata": {},
   "source": [
    "## Deep Learning"
   ]
  },
  {
   "cell_type": "code",
   "execution_count": 46,
   "id": "de19196b-9c1a-4d6f-9c68-0812c91409ba",
   "metadata": {
    "tags": []
   },
   "outputs": [],
   "source": [
    "import pandas as pd\n",
    "\n",
    "from sklearn.model_selection import train_test_split\n",
    "\n",
    "from tensorflow.keras.models import Sequential\n",
    "from tensorflow.keras.layers import Embedding, LSTM, Dense, Dropout\n",
    "from tensorflow.keras.regularizers import l2\n",
    "from tensorflow.keras.layers import Conv1D, GlobalMaxPooling1D\n",
    "from tensorflow.keras.preprocessing.text import Tokenizer\n",
    "from tensorflow.keras.preprocessing.sequence import pad_sequences\n",
    "from tensorflow.keras.optimizers.legacy import Adam\n",
    "from tensorflow.keras.callbacks import EarlyStopping"
   ]
  },
  {
   "cell_type": "markdown",
   "id": "71824db4-d7b2-4cea-a1dc-179bca146788",
   "metadata": {
    "tags": []
   },
   "source": [
    "## Import Data"
   ]
  },
  {
   "cell_type": "code",
   "execution_count": 4,
   "id": "a6c58275-342e-4968-af79-ffde6276e599",
   "metadata": {
    "tags": []
   },
   "outputs": [],
   "source": [
    "data = pd.read_csv(\"review_sentiment.csv\")"
   ]
  },
  {
   "cell_type": "code",
   "execution_count": 5,
   "id": "4e9cf46a-f732-4895-abd3-f05ae98a0ad2",
   "metadata": {
    "tags": []
   },
   "outputs": [
    {
     "data": {
      "text/html": [
       "<div>\n",
       "<style scoped>\n",
       "    .dataframe tbody tr th:only-of-type {\n",
       "        vertical-align: middle;\n",
       "    }\n",
       "\n",
       "    .dataframe tbody tr th {\n",
       "        vertical-align: top;\n",
       "    }\n",
       "\n",
       "    .dataframe thead th {\n",
       "        text-align: right;\n",
       "    }\n",
       "</style>\n",
       "<table border=\"1\" class=\"dataframe\">\n",
       "  <thead>\n",
       "    <tr style=\"text-align: right;\">\n",
       "      <th></th>\n",
       "      <th>Unnamed: 0</th>\n",
       "      <th>review_text</th>\n",
       "      <th>restaurant_label</th>\n",
       "      <th>food_score</th>\n",
       "      <th>service_score</th>\n",
       "      <th>ambiance_score</th>\n",
       "      <th>authentic_score</th>\n",
       "      <th>overall_score</th>\n",
       "      <th>sentiment</th>\n",
       "    </tr>\n",
       "  </thead>\n",
       "  <tbody>\n",
       "    <tr>\n",
       "      <th>0</th>\n",
       "      <td>0</td>\n",
       "      <td>come entre nous periodically past year seem se...</td>\n",
       "      <td>0</td>\n",
       "      <td>0.462757</td>\n",
       "      <td>0.427331</td>\n",
       "      <td>0.331545</td>\n",
       "      <td>0.492026</td>\n",
       "      <td>0.428415</td>\n",
       "      <td>1</td>\n",
       "    </tr>\n",
       "    <tr>\n",
       "      <th>1</th>\n",
       "      <td>1</td>\n",
       "      <td>absolutely delicious menu lovely offer excepti...</td>\n",
       "      <td>0</td>\n",
       "      <td>0.448536</td>\n",
       "      <td>0.318372</td>\n",
       "      <td>0.282956</td>\n",
       "      <td>0.371091</td>\n",
       "      <td>0.355239</td>\n",
       "      <td>1</td>\n",
       "    </tr>\n",
       "    <tr>\n",
       "      <th>2</th>\n",
       "      <td>2</td>\n",
       "      <td>thank much choose entre nous creperie recently...</td>\n",
       "      <td>0</td>\n",
       "      <td>0.430254</td>\n",
       "      <td>0.381057</td>\n",
       "      <td>0.289790</td>\n",
       "      <td>0.406790</td>\n",
       "      <td>0.376973</td>\n",
       "      <td>1</td>\n",
       "    </tr>\n",
       "    <tr>\n",
       "      <th>3</th>\n",
       "      <td>3</td>\n",
       "      <td>lovely little french restaurant really authent...</td>\n",
       "      <td>0</td>\n",
       "      <td>0.416918</td>\n",
       "      <td>0.309187</td>\n",
       "      <td>0.258666</td>\n",
       "      <td>0.506409</td>\n",
       "      <td>0.372795</td>\n",
       "      <td>1</td>\n",
       "    </tr>\n",
       "    <tr>\n",
       "      <th>4</th>\n",
       "      <td>4</td>\n",
       "      <td>dear rebecca thank much dining entre nous crep...</td>\n",
       "      <td>0</td>\n",
       "      <td>0.414757</td>\n",
       "      <td>0.294917</td>\n",
       "      <td>0.352158</td>\n",
       "      <td>0.438276</td>\n",
       "      <td>0.375027</td>\n",
       "      <td>1</td>\n",
       "    </tr>\n",
       "  </tbody>\n",
       "</table>\n",
       "</div>"
      ],
      "text/plain": [
       "   Unnamed: 0                                        review_text  \\\n",
       "0           0  come entre nous periodically past year seem se...   \n",
       "1           1  absolutely delicious menu lovely offer excepti...   \n",
       "2           2  thank much choose entre nous creperie recently...   \n",
       "3           3  lovely little french restaurant really authent...   \n",
       "4           4  dear rebecca thank much dining entre nous crep...   \n",
       "\n",
       "   restaurant_label  food_score  service_score  ambiance_score  \\\n",
       "0                 0    0.462757       0.427331        0.331545   \n",
       "1                 0    0.448536       0.318372        0.282956   \n",
       "2                 0    0.430254       0.381057        0.289790   \n",
       "3                 0    0.416918       0.309187        0.258666   \n",
       "4                 0    0.414757       0.294917        0.352158   \n",
       "\n",
       "   authentic_score  overall_score  sentiment  \n",
       "0         0.492026       0.428415          1  \n",
       "1         0.371091       0.355239          1  \n",
       "2         0.406790       0.376973          1  \n",
       "3         0.506409       0.372795          1  \n",
       "4         0.438276       0.375027          1  "
      ]
     },
     "execution_count": 5,
     "metadata": {},
     "output_type": "execute_result"
    }
   ],
   "source": [
    "data.head()"
   ]
  },
  {
   "cell_type": "code",
   "execution_count": 6,
   "id": "1be35059-0650-4784-8316-f627639fac5b",
   "metadata": {
    "tags": []
   },
   "outputs": [],
   "source": [
    "data.drop(columns=[\"Unnamed: 0\"], inplace=True)"
   ]
  },
  {
   "cell_type": "code",
   "execution_count": 7,
   "id": "445c37d4-7a19-4930-8a55-9035fbc910d9",
   "metadata": {
    "tags": []
   },
   "outputs": [
    {
     "name": "stdout",
     "output_type": "stream",
     "text": [
      "<class 'pandas.core.frame.DataFrame'>\n",
      "RangeIndex: 40946 entries, 0 to 40945\n",
      "Data columns (total 8 columns):\n",
      " #   Column            Non-Null Count  Dtype  \n",
      "---  ------            --------------  -----  \n",
      " 0   review_text       40946 non-null  object \n",
      " 1   restaurant_label  40946 non-null  int64  \n",
      " 2   food_score        40946 non-null  float64\n",
      " 3   service_score     40946 non-null  float64\n",
      " 4   ambiance_score    40946 non-null  float64\n",
      " 5   authentic_score   40946 non-null  float64\n",
      " 6   overall_score     40946 non-null  float64\n",
      " 7   sentiment         40946 non-null  int64  \n",
      "dtypes: float64(5), int64(2), object(1)\n",
      "memory usage: 2.5+ MB\n"
     ]
    }
   ],
   "source": [
    "data.info()"
   ]
  },
  {
   "cell_type": "markdown",
   "id": "d5320058-3328-444c-9d1b-231a11bef7ae",
   "metadata": {},
   "source": [
    "## Train and modelling"
   ]
  },
  {
   "cell_type": "code",
   "execution_count": 9,
   "id": "cd085479-a95a-48d3-8a13-f249c2052857",
   "metadata": {
    "tags": []
   },
   "outputs": [],
   "source": [
    "X = data['review_text']\n",
    "y = data['sentiment']\n",
    "\n",
    "X_train, X_test, y_train, y_test = train_test_split(X, y, test_size=0.3, random_state=42)"
   ]
  },
  {
   "cell_type": "markdown",
   "id": "ca724dbe-8895-4fd6-aca7-4b5b41aa8651",
   "metadata": {
    "jp-MarkdownHeadingCollapsed": true,
    "tags": []
   },
   "source": [
    "## Long Short-Term Memory"
   ]
  },
  {
   "cell_type": "code",
   "execution_count": 10,
   "id": "e6edc931-0a7c-49f3-88bc-80ad594466ed",
   "metadata": {
    "tags": []
   },
   "outputs": [
    {
     "name": "stdout",
     "output_type": "stream",
     "text": [
      "Epoch 1/5\n",
      "717/717 [==============================] - 25s 34ms/step - loss: 0.4213 - accuracy: 0.8032 - val_loss: 0.3532 - val_accuracy: 0.8416\n",
      "Epoch 2/5\n",
      "717/717 [==============================] - 24s 34ms/step - loss: 0.3180 - accuracy: 0.8634 - val_loss: 0.3525 - val_accuracy: 0.8439\n",
      "Epoch 3/5\n",
      "717/717 [==============================] - 25s 34ms/step - loss: 0.2883 - accuracy: 0.8789 - val_loss: 0.3567 - val_accuracy: 0.8427\n",
      "Epoch 4/5\n",
      "717/717 [==============================] - 25s 35ms/step - loss: 0.2615 - accuracy: 0.8942 - val_loss: 0.3742 - val_accuracy: 0.8369\n",
      "Epoch 5/5\n",
      "717/717 [==============================] - 25s 35ms/step - loss: 0.2401 - accuracy: 0.9039 - val_loss: 0.3817 - val_accuracy: 0.8428\n",
      "384/384 [==============================] - 4s 10ms/step - loss: 0.3901 - accuracy: 0.8390\n",
      "Test Accuracy: 0.8389775156974792\n"
     ]
    }
   ],
   "source": [
    "# Tokenize and pad sequences\n",
    "tokenizer = Tokenizer(num_words=5000, oov_token=\"<OOV>\")\n",
    "tokenizer.fit_on_texts(X_train)\n",
    "X_train_sequences = tokenizer.texts_to_sequences(X_train)\n",
    "X_train_padded = pad_sequences(X_train_sequences, maxlen=100, truncating=\"post\")\n",
    "\n",
    "# Build the model\n",
    "model = Sequential()\n",
    "model.add(Embedding(input_dim=5000, output_dim=16, input_length=100))\n",
    "model.add(LSTM(100))\n",
    "model.add(Dense(1, activation=\"sigmoid\"))\n",
    "\n",
    "# Compile the model\n",
    "model.compile(optimizer=\"adam\", loss=\"binary_crossentropy\", metrics=[\"accuracy\"])\n",
    "\n",
    "# Train the model\n",
    "model.fit(X_train_padded, y_train, epochs=5, validation_split=0.2)\n",
    "\n",
    "# Evaluate on the test set\n",
    "X_test_sequences = tokenizer.texts_to_sequences(X_test)\n",
    "X_test_padded = pad_sequences(X_test_sequences, maxlen=100, truncating=\"post\")\n",
    "accuracy = model.evaluate(X_test_padded, y_test)[1]\n",
    "print(f\"Test Accuracy: {accuracy}\")"
   ]
  },
  {
   "cell_type": "code",
   "execution_count": null,
   "id": "e8e5e113-0b59-4b18-96c8-bfb1318210de",
   "metadata": {},
   "outputs": [],
   "source": [
    "## With dropout"
   ]
  },
  {
   "cell_type": "code",
   "execution_count": 12,
   "id": "8b15748b-317c-41ee-bce8-71e93c4d2f31",
   "metadata": {
    "tags": []
   },
   "outputs": [
    {
     "name": "stdout",
     "output_type": "stream",
     "text": [
      "Epoch 1/5\n",
      "717/717 [==============================] - 57s 77ms/step - loss: 0.4182 - accuracy: 0.8074 - val_loss: 0.3603 - val_accuracy: 0.8400\n",
      "Epoch 2/5\n",
      "717/717 [==============================] - 56s 78ms/step - loss: 0.3127 - accuracy: 0.8640 - val_loss: 0.3944 - val_accuracy: 0.8186\n",
      "Epoch 3/5\n",
      "717/717 [==============================] - 55s 77ms/step - loss: 0.2773 - accuracy: 0.8832 - val_loss: 0.3735 - val_accuracy: 0.8357\n",
      "Epoch 4/5\n",
      "717/717 [==============================] - 55s 77ms/step - loss: 0.2467 - accuracy: 0.8990 - val_loss: 0.3786 - val_accuracy: 0.8394\n",
      "Epoch 5/5\n",
      "717/717 [==============================] - 55s 77ms/step - loss: 0.2182 - accuracy: 0.9116 - val_loss: 0.4281 - val_accuracy: 0.8345\n",
      "384/384 [==============================] - 8s 20ms/step - loss: 0.4309 - accuracy: 0.8334\n",
      "Test Accuracy: 0.8334418535232544\n"
     ]
    }
   ],
   "source": [
    "# Tokenize and pad sequences\n",
    "tokenizer = Tokenizer(num_words=5000, oov_token=\"<OOV>\")\n",
    "tokenizer.fit_on_texts(X_train)\n",
    "X_train_sequences = tokenizer.texts_to_sequences(X_train)\n",
    "X_train_padded = pad_sequences(X_train_sequences, maxlen=100, truncating=\"post\")\n",
    "\n",
    "# Build the model\n",
    "model = Sequential()\n",
    "model.add(Embedding(input_dim=5000, output_dim=16, input_length=100))\n",
    "model.add(LSTM(100, return_sequences=True))  # Return sequences if stacking LSTM layers\n",
    "model.add(Dropout(0.2))  # Add dropout layer with 20% dropout rate\n",
    "model.add(LSTM(100))\n",
    "model.add(Dropout(0.2))  # Add dropout layer with 20% dropout rate\n",
    "model.add(Dense(1, activation=\"sigmoid\"))\n",
    "\n",
    "# Compile the model\n",
    "model.compile(optimizer=\"adam\", loss=\"binary_crossentropy\", metrics=[\"accuracy\"])\n",
    "\n",
    "# Train the model\n",
    "model.fit(X_train_padded, y_train, epochs=5, validation_split=0.2)\n",
    "\n",
    "# Evaluate on the test set\n",
    "X_test_sequences = tokenizer.texts_to_sequences(X_test)\n",
    "X_test_padded = pad_sequences(X_test_sequences, maxlen=100, truncating=\"post\")\n",
    "accuracy = model.evaluate(X_test_padded, y_test)[1]\n",
    "print(f\"Test Accuracy: {accuracy}\")"
   ]
  },
  {
   "cell_type": "code",
   "execution_count": 13,
   "id": "2a5de4b7-6799-4228-937a-2b2915808b5e",
   "metadata": {
    "tags": []
   },
   "outputs": [
    {
     "name": "stdout",
     "output_type": "stream",
     "text": [
      "Epoch 1/5\n",
      "717/717 [==============================] - 125s 173ms/step - loss: 0.4163 - accuracy: 0.8069 - val_loss: 0.3772 - val_accuracy: 0.8301\n",
      "Epoch 2/5\n",
      "717/717 [==============================] - 127s 177ms/step - loss: 0.3193 - accuracy: 0.8638 - val_loss: 0.3786 - val_accuracy: 0.8397\n",
      "Epoch 3/5\n",
      "717/717 [==============================] - 127s 177ms/step - loss: 0.2763 - accuracy: 0.8855 - val_loss: 0.3878 - val_accuracy: 0.8397\n",
      "Epoch 4/5\n",
      "717/717 [==============================] - 127s 177ms/step - loss: 0.2432 - accuracy: 0.9030 - val_loss: 0.3641 - val_accuracy: 0.8399\n",
      "Epoch 5/5\n",
      "717/717 [==============================] - 125s 175ms/step - loss: 0.2193 - accuracy: 0.9125 - val_loss: 0.4315 - val_accuracy: 0.8355\n",
      "384/384 [==============================] - 19s 51ms/step - loss: 0.4386 - accuracy: 0.8347\n",
      "Test Accuracy: 0.8346629738807678\n"
     ]
    }
   ],
   "source": [
    "# Build the model\n",
    "model = Sequential()\n",
    "model.add(Embedding(input_dim=5000, output_dim=16, input_length=100))\n",
    "model.add(LSTM(200, return_sequences=True))  # Return sequences if stacking LSTM layers\n",
    "model.add(Dropout(0.3))  # Add dropout layer with 30% dropout rate\n",
    "model.add(LSTM(200))\n",
    "model.add(Dropout(0.2))  # Add dropout layer with 20% dropout rate\n",
    "model.add(Dense(1, activation=\"sigmoid\"))\n",
    "\n",
    "# Compile the model\n",
    "model.compile(optimizer=\"adam\", loss=\"binary_crossentropy\", metrics=[\"accuracy\"])\n",
    "\n",
    "# Train the model\n",
    "model.fit(X_train_padded, y_train, epochs=5, validation_split=0.2)\n",
    "\n",
    "# Evaluate on the test set\n",
    "X_test_sequences = tokenizer.texts_to_sequences(X_test)\n",
    "X_test_padded = pad_sequences(X_test_sequences, maxlen=100, truncating=\"post\")\n",
    "accuracy = model.evaluate(X_test_padded, y_test)[1]\n",
    "print(f\"Test Accuracy: {accuracy}\")"
   ]
  },
  {
   "cell_type": "code",
   "execution_count": 14,
   "id": "a83b0e15-6508-4f77-8789-c4307aad184e",
   "metadata": {
    "tags": []
   },
   "outputs": [
    {
     "name": "stdout",
     "output_type": "stream",
     "text": [
      "Epoch 1/5\n",
      "717/717 [==============================] - 126s 174ms/step - loss: 0.4231 - accuracy: 0.8046 - val_loss: 0.3729 - val_accuracy: 0.8390\n",
      "Epoch 2/5\n",
      "717/717 [==============================] - 132s 184ms/step - loss: 0.3225 - accuracy: 0.8610 - val_loss: 0.3648 - val_accuracy: 0.8400\n",
      "Epoch 3/5\n",
      "717/717 [==============================] - 132s 184ms/step - loss: 0.2865 - accuracy: 0.8813 - val_loss: 0.3601 - val_accuracy: 0.8387\n",
      "Epoch 4/5\n",
      "717/717 [==============================] - 130s 182ms/step - loss: 0.2585 - accuracy: 0.8945 - val_loss: 0.3984 - val_accuracy: 0.8400\n",
      "Epoch 5/5\n",
      "717/717 [==============================] - 130s 181ms/step - loss: 0.2299 - accuracy: 0.9089 - val_loss: 0.4131 - val_accuracy: 0.8385\n",
      "384/384 [==============================] - 19s 50ms/step - loss: 0.4120 - accuracy: 0.8372\n",
      "Test Accuracy: 0.8371865749359131\n"
     ]
    }
   ],
   "source": [
    "# Build the model\n",
    "model = Sequential()\n",
    "model.add(Embedding(input_dim=5000, output_dim=16, input_length=100))\n",
    "model.add(LSTM(200, return_sequences=True))  # Return sequences if stacking LSTM layers\n",
    "model.add(Dropout(0.5))  # Add dropout layer with 30% dropout rate\n",
    "model.add(LSTM(200))\n",
    "model.add(Dropout(0.2))  # Add dropout layer with 20% dropout rate\n",
    "model.add(Dense(1, activation=\"sigmoid\"))\n",
    "\n",
    "# Compile the model\n",
    "model.compile(optimizer=\"adam\", loss=\"binary_crossentropy\", metrics=[\"accuracy\"])\n",
    "\n",
    "# Train the model\n",
    "model.fit(X_train_padded, y_train, epochs=5, validation_split=0.2)\n",
    "\n",
    "# Evaluate on the test set\n",
    "X_test_sequences = tokenizer.texts_to_sequences(X_test)\n",
    "X_test_padded = pad_sequences(X_test_sequences, maxlen=100, truncating=\"post\")\n",
    "accuracy = model.evaluate(X_test_padded, y_test)[1]\n",
    "print(f\"Test Accuracy: {accuracy}\")"
   ]
  },
  {
   "cell_type": "code",
   "execution_count": 18,
   "id": "97bfbfea-469e-46da-a531-27200a4a83d6",
   "metadata": {
    "tags": []
   },
   "outputs": [
    {
     "name": "stdout",
     "output_type": "stream",
     "text": [
      "Epoch 1/10\n",
      "717/717 [==============================] - 108s 148ms/step - loss: 0.4224 - accuracy: 0.8060 - val_loss: 0.3648 - val_accuracy: 0.8373\n",
      "Epoch 2/10\n",
      "717/717 [==============================] - 112s 156ms/step - loss: 0.3184 - accuracy: 0.8654 - val_loss: 0.3502 - val_accuracy: 0.8470\n",
      "Epoch 3/10\n",
      "717/717 [==============================] - 107s 149ms/step - loss: 0.2737 - accuracy: 0.8882 - val_loss: 0.3765 - val_accuracy: 0.8425\n",
      "Epoch 4/10\n",
      "717/717 [==============================] - 106s 147ms/step - loss: 0.2364 - accuracy: 0.9051 - val_loss: 0.3936 - val_accuracy: 0.8390\n",
      "Epoch 5/10\n",
      "717/717 [==============================] - 106s 147ms/step - loss: 0.2036 - accuracy: 0.9200 - val_loss: 0.4412 - val_accuracy: 0.8294\n",
      "Epoch 6/10\n",
      "717/717 [==============================] - 106s 148ms/step - loss: 0.1715 - accuracy: 0.9338 - val_loss: 0.5618 - val_accuracy: 0.8268\n",
      "Epoch 7/10\n",
      "717/717 [==============================] - 106s 148ms/step - loss: 0.1433 - accuracy: 0.9466 - val_loss: 0.5926 - val_accuracy: 0.8231\n",
      "Epoch 8/10\n",
      "717/717 [==============================] - 106s 147ms/step - loss: 0.1210 - accuracy: 0.9551 - val_loss: 0.6368 - val_accuracy: 0.8195\n",
      "Epoch 9/10\n",
      "717/717 [==============================] - 106s 148ms/step - loss: 0.1009 - accuracy: 0.9629 - val_loss: 0.6457 - val_accuracy: 0.8172\n",
      "Epoch 10/10\n",
      "717/717 [==============================] - 107s 150ms/step - loss: 0.0872 - accuracy: 0.9686 - val_loss: 0.6711 - val_accuracy: 0.8172\n",
      "384/384 [==============================] - 15s 39ms/step - loss: 0.6495 - accuracy: 0.8193\n",
      "Test Accuracy: 0.8192771077156067\n"
     ]
    }
   ],
   "source": [
    "# Build the model\n",
    "model = Sequential()\n",
    "model.add(Embedding(input_dim=5000, output_dim=32, input_length=100))\n",
    "model.add(LSTM(128, return_sequences=True))  # Return sequences if stacking LSTM layers\n",
    "model.add(Dropout(0.5))  # Add dropout layer with 50% dropout rate\n",
    "model.add(LSTM(128, return_sequences=True))\n",
    "model.add(Dropout(0.5))  # Add dropout layer with 50% dropout rate\n",
    "model.add(LSTM(64))\n",
    "model.add(Dropout(0.2))  # Add dropout layer with 20% dropout rate\n",
    "model.add(Dense(1, activation=\"sigmoid\"))\n",
    "\n",
    "# Compile the model\n",
    "model.compile(optimizer=\"adam\", loss=\"binary_crossentropy\", metrics=[\"accuracy\"])\n",
    "\n",
    "# Train the model\n",
    "model.fit(X_train_padded, y_train, epochs=10, validation_split=0.2)\n",
    "\n",
    "# Evaluate on the test set\n",
    "X_test_sequences = tokenizer.texts_to_sequences(X_test)\n",
    "X_test_padded_3D = X_test_padded.reshape((X_test_padded.shape[0], X_test_padded.shape[1], 1))\n",
    "accuracy = model.evaluate(X_test_padded, y_test)[1]\n",
    "print(f\"Test Accuracy: {accuracy}\")"
   ]
  },
  {
   "cell_type": "markdown",
   "id": "7aa8783b-f89d-4d9b-a730-b17f0abbdb70",
   "metadata": {},
   "source": [
    "## Convolution Neural Network"
   ]
  },
  {
   "cell_type": "code",
   "execution_count": 20,
   "id": "da5a8c2f-ec0e-4ca9-85bc-27b4175f5141",
   "metadata": {
    "tags": []
   },
   "outputs": [
    {
     "name": "stdout",
     "output_type": "stream",
     "text": [
      "Epoch 1/5\n",
      "717/717 [==============================] - 2s 2ms/step - loss: 0.4586 - accuracy: 0.7769 - val_loss: 0.3877 - val_accuracy: 0.8217\n",
      "Epoch 2/5\n",
      "717/717 [==============================] - 2s 2ms/step - loss: 0.3317 - accuracy: 0.8533 - val_loss: 0.3694 - val_accuracy: 0.8319\n",
      "Epoch 3/5\n",
      "717/717 [==============================] - 2s 2ms/step - loss: 0.2630 - accuracy: 0.8909 - val_loss: 0.3751 - val_accuracy: 0.8353\n",
      "Epoch 4/5\n",
      "717/717 [==============================] - 2s 2ms/step - loss: 0.2042 - accuracy: 0.9197 - val_loss: 0.3992 - val_accuracy: 0.8310\n",
      "Epoch 5/5\n",
      "717/717 [==============================] - 2s 2ms/step - loss: 0.1520 - accuracy: 0.9452 - val_loss: 0.4376 - val_accuracy: 0.8306\n",
      "384/384 [==============================] - 0s 665us/step - loss: 0.4438 - accuracy: 0.8258\n",
      "Test Accuracy: 0.8257896304130554\n"
     ]
    }
   ],
   "source": [
    "# Build the model\n",
    "model = Sequential()\n",
    "model.add(Embedding(input_dim=5000, output_dim=32, input_length=100))\n",
    "model.add(Conv1D(64, 3, activation='relu'))\n",
    "model.add(GlobalMaxPooling1D())\n",
    "model.add(Dense(1, activation=\"sigmoid\"))\n",
    "\n",
    "# Compile the model\n",
    "model.compile(optimizer=\"adam\", loss=\"binary_crossentropy\", metrics=[\"accuracy\"])\n",
    "\n",
    "# Train the model\n",
    "model.fit(X_train_padded, y_train, epochs=5, validation_split=0.2)\n",
    "\n",
    "# Evaluate on the test set\n",
    "X_test_sequences = tokenizer.texts_to_sequences(X_test)\n",
    "X_test_padded_3D = X_test_padded.reshape((X_test_padded.shape[0], X_test_padded.shape[1], 1))\n",
    "accuracy = model.evaluate(X_test_padded, y_test)[1]\n",
    "print(f\"Test Accuracy: {accuracy}\")"
   ]
  },
  {
   "cell_type": "code",
   "execution_count": 32,
   "id": "e4438bf6-4b7b-4a49-8e0f-9035375506bc",
   "metadata": {
    "tags": []
   },
   "outputs": [
    {
     "name": "stdout",
     "output_type": "stream",
     "text": [
      "Epoch 1/10\n",
      "717/717 [==============================] - 2s 3ms/step - loss: 0.5565 - accuracy: 0.7535 - val_loss: 0.4997 - val_accuracy: 0.7940\n",
      "Epoch 2/10\n",
      "717/717 [==============================] - 2s 3ms/step - loss: 0.4196 - accuracy: 0.8221 - val_loss: 0.4756 - val_accuracy: 0.8107\n",
      "Epoch 3/10\n",
      "717/717 [==============================] - 2s 3ms/step - loss: 0.3778 - accuracy: 0.8417 - val_loss: 0.4565 - val_accuracy: 0.8141\n",
      "Epoch 4/10\n",
      "717/717 [==============================] - 2s 3ms/step - loss: 0.3525 - accuracy: 0.8534 - val_loss: 0.4491 - val_accuracy: 0.8128\n",
      "Epoch 5/10\n",
      "717/717 [==============================] - 2s 3ms/step - loss: 0.3320 - accuracy: 0.8640 - val_loss: 0.4530 - val_accuracy: 0.8125\n",
      "Epoch 6/10\n",
      "717/717 [==============================] - 2s 3ms/step - loss: 0.3158 - accuracy: 0.8747 - val_loss: 0.4474 - val_accuracy: 0.8113\n",
      "Epoch 7/10\n",
      "717/717 [==============================] - 2s 3ms/step - loss: 0.2997 - accuracy: 0.8826 - val_loss: 0.4469 - val_accuracy: 0.8100\n",
      "Epoch 8/10\n",
      "717/717 [==============================] - 2s 3ms/step - loss: 0.2873 - accuracy: 0.8894 - val_loss: 0.4568 - val_accuracy: 0.7999\n",
      "Epoch 9/10\n",
      "717/717 [==============================] - 2s 3ms/step - loss: 0.2729 - accuracy: 0.8977 - val_loss: 0.4549 - val_accuracy: 0.8018\n",
      "Epoch 10/10\n",
      "717/717 [==============================] - 2s 3ms/step - loss: 0.2637 - accuracy: 0.9039 - val_loss: 0.4597 - val_accuracy: 0.8018\n",
      "384/384 [==============================] - 0s 661us/step - loss: 0.4664 - accuracy: 0.8013\n",
      "Test Accuracy: 0.8012862205505371\n"
     ]
    }
   ],
   "source": [
    "# Build the model\n",
    "model = Sequential()\n",
    "model.add(Embedding(input_dim=5000, output_dim=32, input_length=100))\n",
    "model.add(Conv1D(64, 3, activation='relu', kernel_regularizer=l2(0.01)))\n",
    "model.add(Dropout(0.5))\n",
    "model.add(GlobalMaxPooling1D())\n",
    "model.add(Dense(1, activation=\"sigmoid\"))\n",
    "\n",
    "# Compile the model\n",
    "model.compile(optimizer=\"adam\", loss=\"binary_crossentropy\", metrics=[\"accuracy\"])\n",
    "\n",
    "# Train the model\n",
    "model.fit(X_train_padded, y_train, epochs=10, validation_split=0.2)\n",
    "\n",
    "# Evaluate on the test set\n",
    "X_test_sequences = tokenizer.texts_to_sequences(X_test)\n",
    "X_test_padded_3D = X_test_padded.reshape((X_test_padded.shape[0], X_test_padded.shape[1], 1))\n",
    "accuracy = model.evaluate(X_test_padded, y_test)[1]\n",
    "print(f\"Test Accuracy: {accuracy}\")"
   ]
  },
  {
   "cell_type": "code",
   "execution_count": 35,
   "id": "bc2abb4e-76ff-4c68-a148-3aa4bafab886",
   "metadata": {
    "tags": []
   },
   "outputs": [
    {
     "name": "stdout",
     "output_type": "stream",
     "text": [
      "Epoch 1/100\n",
      "717/717 [==============================] - 3s 4ms/step - loss: 0.5556 - accuracy: 0.7736 - val_loss: 0.4184 - val_accuracy: 0.8193\n",
      "Epoch 2/100\n",
      "717/717 [==============================] - 3s 4ms/step - loss: 0.3774 - accuracy: 0.8402 - val_loss: 0.3988 - val_accuracy: 0.8210\n",
      "Epoch 3/100\n",
      "717/717 [==============================] - 3s 4ms/step - loss: 0.3187 - accuracy: 0.8724 - val_loss: 0.3933 - val_accuracy: 0.8285\n",
      "Epoch 4/100\n",
      "717/717 [==============================] - 3s 4ms/step - loss: 0.2666 - accuracy: 0.9005 - val_loss: 0.4213 - val_accuracy: 0.8202\n",
      "Epoch 5/100\n",
      "717/717 [==============================] - 3s 4ms/step - loss: 0.2163 - accuracy: 0.9243 - val_loss: 0.4918 - val_accuracy: 0.8128\n",
      "Epoch 6/100\n",
      "717/717 [==============================] - 3s 4ms/step - loss: 0.1707 - accuracy: 0.9450 - val_loss: 0.4962 - val_accuracy: 0.8182\n",
      "384/384 [==============================] - 0s 1ms/step - loss: 0.3989 - accuracy: 0.8271\n",
      "Test Accuracy: 0.827092170715332\n"
     ]
    }
   ],
   "source": [
    "# Build the model\n",
    "model = Sequential()\n",
    "model.add(Embedding(input_dim=5000, output_dim=32, input_length=100))\n",
    "model.add(Conv1D(128, 5, activation='relu'))\n",
    "model.add(GlobalMaxPooling1D())\n",
    "model.add(Dropout(0.5))  # Add dropout layer with 50% dropout rate\n",
    "model.add(Dense(64, activation='relu',kernel_regularizer=l2(0.01)))\n",
    "model.add(Dropout(0.2))  # Add dropout layer with 20% dropout rate\n",
    "model.add(Dense(1, activation=\"sigmoid\"))\n",
    "\n",
    "\n",
    "# Compile the model\n",
    "model.compile(optimizer=\"adam\", loss=\"binary_crossentropy\", metrics=[\"accuracy\"])\n",
    "\n",
    "# Train the model\n",
    "early_stopping = EarlyStopping(monitor='val_loss', patience=3, restore_best_weights=True)\n",
    "model.fit(X_train_padded, y_train, epochs=100, validation_split=0.2, callbacks=[early_stopping])\n",
    "\n",
    "# Evaluate on the test set\n",
    "X_test_sequences = tokenizer.texts_to_sequences(X_test)\n",
    "X_test_padded_3D = X_test_padded.reshape((X_test_padded.shape[0], X_test_padded.shape[1], 1))\n",
    "accuracy = model.evaluate(X_test_padded, y_test)[1]\n",
    "print(f\"Test Accuracy: {accuracy}\")"
   ]
  },
  {
   "cell_type": "code",
   "execution_count": 36,
   "id": "779bceba-b52a-490b-84f2-a2fbc9e89c79",
   "metadata": {
    "tags": []
   },
   "outputs": [
    {
     "name": "stdout",
     "output_type": "stream",
     "text": [
      "Epoch 1/100\n",
      "717/717 [==============================] - 3s 4ms/step - loss: 0.4649 - accuracy: 0.7800 - val_loss: 0.3800 - val_accuracy: 0.8263\n",
      "Epoch 2/100\n",
      "717/717 [==============================] - 3s 4ms/step - loss: 0.3427 - accuracy: 0.8522 - val_loss: 0.3700 - val_accuracy: 0.8285\n",
      "Epoch 3/100\n",
      "717/717 [==============================] - 3s 4ms/step - loss: 0.2841 - accuracy: 0.8801 - val_loss: 0.3960 - val_accuracy: 0.8271\n",
      "Epoch 4/100\n",
      "717/717 [==============================] - 3s 4ms/step - loss: 0.2189 - accuracy: 0.9115 - val_loss: 0.4090 - val_accuracy: 0.8252\n",
      "Epoch 5/100\n",
      "717/717 [==============================] - 3s 4ms/step - loss: 0.1661 - accuracy: 0.9364 - val_loss: 0.4954 - val_accuracy: 0.8224\n",
      "384/384 [==============================] - 0s 971us/step - loss: 0.3729 - accuracy: 0.8280\n",
      "Test Accuracy: 0.8279876112937927\n"
     ]
    }
   ],
   "source": [
    "# Build the model\n",
    "model = Sequential()\n",
    "model.add(Embedding(input_dim=5000, output_dim=32, input_length=100))\n",
    "model.add(Conv1D(128, 5, activation='relu'))\n",
    "model.add(GlobalMaxPooling1D())\n",
    "model.add(Dropout(0.5))  # Add dropout layer with 50% dropout rate\n",
    "model.add(Dense(64, activation='relu'))\n",
    "model.add(Dropout(0.4))  # Add dropout layer with 40% dropout rate\n",
    "model.add(Dense(1, activation=\"sigmoid\"))\n",
    "\n",
    "# Compile the model\n",
    "model.compile(optimizer=\"adam\", loss=\"binary_crossentropy\", metrics=[\"accuracy\"])\n",
    "\n",
    "# Train the model\n",
    "early_stopping = EarlyStopping(monitor='val_loss', patience=3, restore_best_weights=True)\n",
    "model.fit(X_train_padded, y_train, epochs=100, validation_split=0.2, callbacks=[early_stopping])\n",
    "\n",
    "# Evaluate on the test set\n",
    "X_test_sequences = tokenizer.texts_to_sequences(X_test)\n",
    "X_test_padded_3D = X_test_padded.reshape((X_test_padded.shape[0], X_test_padded.shape[1], 1))\n",
    "accuracy = model.evaluate(X_test_padded, y_test)[1]\n",
    "print(f\"Test Accuracy: {accuracy}\")"
   ]
  },
  {
   "cell_type": "code",
   "execution_count": 37,
   "id": "bdc1e824-8742-438d-9c65-168969b7e42d",
   "metadata": {
    "tags": []
   },
   "outputs": [
    {
     "name": "stdout",
     "output_type": "stream",
     "text": [
      "Epoch 1/100\n",
      "717/717 [==============================] - 3s 4ms/step - loss: 0.5640 - accuracy: 0.7724 - val_loss: 0.4038 - val_accuracy: 0.8259\n",
      "Epoch 2/100\n",
      "717/717 [==============================] - 3s 4ms/step - loss: 0.3845 - accuracy: 0.8398 - val_loss: 0.3874 - val_accuracy: 0.8332\n",
      "Epoch 3/100\n",
      "717/717 [==============================] - 3s 4ms/step - loss: 0.3278 - accuracy: 0.8698 - val_loss: 0.4167 - val_accuracy: 0.8303\n",
      "Epoch 4/100\n",
      "717/717 [==============================] - 3s 4ms/step - loss: 0.2767 - accuracy: 0.8973 - val_loss: 0.4158 - val_accuracy: 0.8294\n",
      "Epoch 5/100\n",
      "717/717 [==============================] - 3s 4ms/step - loss: 0.2209 - accuracy: 0.9214 - val_loss: 0.4534 - val_accuracy: 0.8268\n",
      "384/384 [==============================] - 0s 959us/step - loss: 0.3958 - accuracy: 0.8298\n",
      "Test Accuracy: 0.8297785520553589\n"
     ]
    }
   ],
   "source": [
    "# Build the model\n",
    "model = Sequential()\n",
    "model.add(Embedding(input_dim=5000, output_dim=32, input_length=100))\n",
    "model.add(Conv1D(128, 5, activation='relu'))\n",
    "model.add(GlobalMaxPooling1D())\n",
    "model.add(Dropout(0.5))  # Add dropout layer with 50% dropout rate\n",
    "model.add(Dense(64, activation='relu', kernel_regularizer=l2(0.01)))\n",
    "model.add(Dropout(0.4))  # Add dropout layer with 40% dropout rate\n",
    "model.add(Dense(1, activation=\"sigmoid\"))\n",
    "\n",
    "# Compile the model\n",
    "model.compile(optimizer=\"adam\", loss=\"binary_crossentropy\", metrics=[\"accuracy\"])\n",
    "\n",
    "# Train the model\n",
    "early_stopping = EarlyStopping(monitor='val_loss', patience=3, restore_best_weights=True)\n",
    "model.fit(X_train_padded, y_train, epochs=100, validation_split=0.2, callbacks=[early_stopping])\n",
    "\n",
    "# Evaluate on the test set\n",
    "X_test_sequences = tokenizer.texts_to_sequences(X_test)\n",
    "X_test_padded_3D = X_test_padded.reshape((X_test_padded.shape[0], X_test_padded.shape[1], 1))\n",
    "accuracy = model.evaluate(X_test_padded, y_test)[1]\n",
    "print(f\"Test Accuracy: {accuracy}\")"
   ]
  },
  {
   "cell_type": "code",
   "execution_count": 39,
   "id": "17e872a6-984e-47b3-b56b-32bf7e4737c5",
   "metadata": {
    "tags": []
   },
   "outputs": [
    {
     "name": "stdout",
     "output_type": "stream",
     "text": [
      "Epoch 1/100\n",
      "717/717 [==============================] - 3s 4ms/step - loss: 0.5132 - accuracy: 0.7770 - val_loss: 0.4539 - val_accuracy: 0.8095\n",
      "Epoch 2/100\n",
      "717/717 [==============================] - 3s 4ms/step - loss: 0.3951 - accuracy: 0.8387 - val_loss: 0.4073 - val_accuracy: 0.8277\n",
      "Epoch 3/100\n",
      "717/717 [==============================] - 3s 4ms/step - loss: 0.3485 - accuracy: 0.8630 - val_loss: 0.4086 - val_accuracy: 0.8287\n",
      "Epoch 4/100\n",
      "717/717 [==============================] - 3s 4ms/step - loss: 0.3056 - accuracy: 0.8869 - val_loss: 0.4372 - val_accuracy: 0.8212\n",
      "Epoch 5/100\n",
      "717/717 [==============================] - 3s 4ms/step - loss: 0.2618 - accuracy: 0.9095 - val_loss: 0.4825 - val_accuracy: 0.8214\n",
      "384/384 [==============================] - 0s 956us/step - loss: 0.4064 - accuracy: 0.8299\n",
      "Test Accuracy: 0.8298599720001221\n"
     ]
    }
   ],
   "source": [
    "# Build the model\n",
    "model = Sequential()\n",
    "model.add(Embedding(input_dim=5000, output_dim=32, input_length=100))\n",
    "model.add(Conv1D(128, 5, activation='relu', kernel_regularizer=l2(0.01)))\n",
    "model.add(GlobalMaxPooling1D())\n",
    "model.add(Dropout(0.3))  # Add dropout layer with 30% dropout rate\n",
    "model.add(Dense(64, activation='relu'))\n",
    "model.add(Dropout(0.1))  # Add dropout layer with 10% dropout rate\n",
    "model.add(Dense(1, activation=\"sigmoid\"))\n",
    "\n",
    "# Compile the model\n",
    "model.compile(optimizer=\"adam\", loss=\"binary_crossentropy\", metrics=[\"accuracy\"])\n",
    "\n",
    "# Train the model\n",
    "early_stopping = EarlyStopping(monitor='val_loss', patience=3, restore_best_weights=True)\n",
    "model.fit(X_train_padded, y_train, epochs=100, validation_split=0.2, callbacks=[early_stopping])\n",
    "\n",
    "# Evaluate on the test set\n",
    "X_test_sequences = tokenizer.texts_to_sequences(X_test)\n",
    "X_test_padded_3D = X_test_padded.reshape((X_test_padded.shape[0], X_test_padded.shape[1], 1))\n",
    "accuracy = model.evaluate(X_test_padded, y_test)[1]\n",
    "print(f\"Test Accuracy: {accuracy}\")"
   ]
  },
  {
   "cell_type": "code",
   "execution_count": 41,
   "id": "da1513fd-a64c-4d0e-bcc1-6106b057bcdf",
   "metadata": {
    "tags": []
   },
   "outputs": [
    {
     "name": "stderr",
     "output_type": "stream",
     "text": [
      "WARNING:absl:At this time, the v2.11+ optimizer `tf.keras.optimizers.Adam` runs slowly on M1/M2 Macs, please use the legacy Keras optimizer instead, located at `tf.keras.optimizers.legacy.Adam`.\n"
     ]
    },
    {
     "name": "stdout",
     "output_type": "stream",
     "text": [
      "Epoch 1/100\n",
      "717/717 [==============================] - 2s 3ms/step - loss: 0.4590 - accuracy: 0.7818 - val_loss: 0.3727 - val_accuracy: 0.8313\n",
      "Epoch 2/100\n",
      "717/717 [==============================] - 2s 3ms/step - loss: 0.3361 - accuracy: 0.8535 - val_loss: 0.3754 - val_accuracy: 0.8343\n",
      "Epoch 3/100\n",
      "717/717 [==============================] - 2s 3ms/step - loss: 0.2628 - accuracy: 0.8938 - val_loss: 0.3818 - val_accuracy: 0.8332\n",
      "Epoch 4/100\n",
      "717/717 [==============================] - 2s 3ms/step - loss: 0.1897 - accuracy: 0.9271 - val_loss: 0.4284 - val_accuracy: 0.8312\n",
      "384/384 [==============================] - 0s 746us/step - loss: 0.3745 - accuracy: 0.8317\n",
      "Test Accuracy: 0.8317323327064514\n"
     ]
    }
   ],
   "source": [
    "# Build the model\n",
    "model = Sequential()\n",
    "model.add(Embedding(input_dim=5000, output_dim=32, input_length=100))\n",
    "model.add(Conv1D(64, 5, activation='relu'))\n",
    "model.add(GlobalMaxPooling1D())\n",
    "model.add(Dropout(0.3))  # Add dropout layer with 30% dropout rate\n",
    "model.add(Dense(32, activation='relu'))\n",
    "model.add(Dropout(0.1))  # Add dropout layer with 10% dropout rate\n",
    "model.add(Dense(1, activation=\"sigmoid\"))\n",
    "\n",
    "# Compile the model\n",
    "\n",
    "model.compile(optimizer=Adam(learning_rate=0.001), loss=\"binary_crossentropy\", metrics=[\"accuracy\"])\n",
    "\n",
    "# Train the model\n",
    "early_stopping = EarlyStopping(monitor='val_loss', patience=3, restore_best_weights=True)\n",
    "model.fit(X_train_padded, y_train, epochs=100, validation_split=0.2, callbacks=[early_stopping])\n",
    "\n",
    "# Evaluate on the test set\n",
    "X_test_sequences = tokenizer.texts_to_sequences(X_test)\n",
    "X_test_padded_3D = X_test_padded.reshape((X_test_padded.shape[0], X_test_padded.shape[1], 1))\n",
    "accuracy = model.evaluate(X_test_padded, y_test)[1]\n",
    "print(f\"Test Accuracy: {accuracy}\")"
   ]
  },
  {
   "cell_type": "code",
   "execution_count": 41,
   "id": "2fd19629-9d48-4c24-b3cf-48891a93ec0b",
   "metadata": {
    "tags": []
   },
   "outputs": [
    {
     "name": "stderr",
     "output_type": "stream",
     "text": [
      "WARNING:absl:At this time, the v2.11+ optimizer `tf.keras.optimizers.Adam` runs slowly on M1/M2 Macs, please use the legacy Keras optimizer instead, located at `tf.keras.optimizers.legacy.Adam`.\n"
     ]
    },
    {
     "name": "stdout",
     "output_type": "stream",
     "text": [
      "Epoch 1/100\n",
      "717/717 [==============================] - 2s 3ms/step - loss: 0.4590 - accuracy: 0.7818 - val_loss: 0.3727 - val_accuracy: 0.8313\n",
      "Epoch 2/100\n",
      "717/717 [==============================] - 2s 3ms/step - loss: 0.3361 - accuracy: 0.8535 - val_loss: 0.3754 - val_accuracy: 0.8343\n",
      "Epoch 3/100\n",
      "717/717 [==============================] - 2s 3ms/step - loss: 0.2628 - accuracy: 0.8938 - val_loss: 0.3818 - val_accuracy: 0.8332\n",
      "Epoch 4/100\n",
      "717/717 [==============================] - 2s 3ms/step - loss: 0.1897 - accuracy: 0.9271 - val_loss: 0.4284 - val_accuracy: 0.8312\n",
      "384/384 [==============================] - 0s 746us/step - loss: 0.3745 - accuracy: 0.8317\n",
      "Test Accuracy: 0.8317323327064514\n"
     ]
    }
   ],
   "source": [
    "# Build the model\n",
    "model = Sequential()\n",
    "model.add(Embedding(input_dim=5000, output_dim=32, input_length=100))\n",
    "model.add(Conv1D(64, 5, activation='relu'))\n",
    "model.add(GlobalMaxPooling1D())\n",
    "model.add(Dropout(0.3))  # Add dropout layer with 30% dropout rate\n",
    "model.add(Dense(32, activation='relu'))\n",
    "model.add(Dropout(0.1))  # Add dropout layer with 10% dropout rate\n",
    "model.add(Dense(1, activation=\"sigmoid\"))\n",
    "\n",
    "# Compile the model\n",
    "\n",
    "model.compile(optimizer=Adam(learning_rate=0.001), loss=\"binary_crossentropy\", metrics=[\"accuracy\"])\n",
    "\n",
    "# Train the model\n",
    "early_stopping = EarlyStopping(monitor='val_loss', patience=3, restore_best_weights=True)\n",
    "model.fit(X_train_padded, y_train, epochs=100, validation_split=0.2, callbacks=[early_stopping])\n",
    "\n",
    "# Evaluate on the test set\n",
    "X_test_sequences = tokenizer.texts_to_sequences(X_test)\n",
    "X_test_padded_3D = X_test_padded.reshape((X_test_padded.shape[0], X_test_padded.shape[1], 1))\n",
    "accuracy = model.evaluate(X_test_padded, y_test)[1]\n",
    "print(f\"Test Accuracy: {accuracy}\")"
   ]
  },
  {
   "cell_type": "code",
   "execution_count": 44,
   "id": "2e89c967-ff5b-41c5-a101-08924f23a938",
   "metadata": {
    "tags": []
   },
   "outputs": [
    {
     "name": "stderr",
     "output_type": "stream",
     "text": [
      "WARNING:absl:At this time, the v2.11+ optimizer `tf.keras.optimizers.Adam` runs slowly on M1/M2 Macs, please use the legacy Keras optimizer instead, located at `tf.keras.optimizers.legacy.Adam`.\n"
     ]
    },
    {
     "name": "stdout",
     "output_type": "stream",
     "text": [
      "Epoch 1/10\n",
      "717/717 [==============================] - 1s 2ms/step - loss: 0.5480 - accuracy: 0.7284 - val_loss: 0.4412 - val_accuracy: 0.8071\n",
      "Epoch 2/10\n",
      "717/717 [==============================] - 1s 1ms/step - loss: 0.4672 - accuracy: 0.7818 - val_loss: 0.4006 - val_accuracy: 0.8238\n",
      "Epoch 3/10\n",
      "717/717 [==============================] - 1s 1ms/step - loss: 0.4355 - accuracy: 0.8001 - val_loss: 0.3905 - val_accuracy: 0.8339\n",
      "Epoch 4/10\n",
      "717/717 [==============================] - 1s 1ms/step - loss: 0.4066 - accuracy: 0.8160 - val_loss: 0.3888 - val_accuracy: 0.8303\n",
      "Epoch 5/10\n",
      "717/717 [==============================] - 1s 1ms/step - loss: 0.3851 - accuracy: 0.8255 - val_loss: 0.3780 - val_accuracy: 0.8299\n",
      "Epoch 6/10\n",
      "717/717 [==============================] - 1s 1ms/step - loss: 0.3594 - accuracy: 0.8414 - val_loss: 0.3751 - val_accuracy: 0.8284\n",
      "Epoch 7/10\n",
      "717/717 [==============================] - 1s 1ms/step - loss: 0.3426 - accuracy: 0.8503 - val_loss: 0.3753 - val_accuracy: 0.8294\n",
      "Epoch 8/10\n",
      "717/717 [==============================] - 1s 1ms/step - loss: 0.3276 - accuracy: 0.8562 - val_loss: 0.3826 - val_accuracy: 0.8244\n",
      "Epoch 9/10\n",
      "717/717 [==============================] - 1s 1ms/step - loss: 0.3124 - accuracy: 0.8657 - val_loss: 0.3842 - val_accuracy: 0.8273\n",
      "Epoch 10/10\n",
      "717/717 [==============================] - 1s 2ms/step - loss: 0.3002 - accuracy: 0.8689 - val_loss: 0.3893 - val_accuracy: 0.8230\n",
      "384/384 [==============================] - 0s 438us/step - loss: 0.3937 - accuracy: 0.8220\n",
      "Test Accuracy: 0.8220449090003967\n"
     ]
    }
   ],
   "source": [
    "# Example: Remove Conv1D layer\n",
    "model = Sequential()\n",
    "model.add(Embedding(input_dim=5000, output_dim=32, input_length=100))\n",
    "model.add(GlobalMaxPooling1D())\n",
    "model.add(Dropout(0.5))\n",
    "model.add(Dense(32, activation='relu'))\n",
    "model.add(Dropout(0.2))\n",
    "model.add(Dense(1, activation=\"sigmoid\"))\n",
    "\n",
    "model.compile(optimizer=Adam(learning_rate=0.001), loss=\"binary_crossentropy\", metrics=[\"accuracy\"])\n",
    "\n",
    "model.fit(X_train_padded, y_train, epochs=10, validation_split=0.2)\n",
    "\n",
    "X_test_sequences = tokenizer.texts_to_sequences(X_test)\n",
    "X_test_padded_3D = X_test_padded.reshape((X_test_padded.shape[0], X_test_padded.shape[1], 1))\n",
    "accuracy = model.evaluate(X_test_padded, y_test)[1]\n",
    "print(f\"Test Accuracy: {accuracy}\")"
   ]
  },
  {
   "cell_type": "code",
   "execution_count": 49,
   "id": "92e7eeb3-2109-4d8a-9b7f-46f229bb1d70",
   "metadata": {
    "tags": []
   },
   "outputs": [
    {
     "name": "stdout",
     "output_type": "stream",
     "text": [
      "Epoch 1/10\n",
      "717/717 [==============================] - 2s 2ms/step - loss: 0.5681 - accuracy: 0.7131 - val_loss: 0.4649 - val_accuracy: 0.7907\n",
      "Epoch 2/10\n",
      "717/717 [==============================] - 1s 2ms/step - loss: 0.4909 - accuracy: 0.7694 - val_loss: 0.4135 - val_accuracy: 0.8168\n",
      "Epoch 3/10\n",
      "717/717 [==============================] - 1s 2ms/step - loss: 0.4614 - accuracy: 0.7857 - val_loss: 0.3969 - val_accuracy: 0.8200\n",
      "Epoch 4/10\n",
      "717/717 [==============================] - 1s 2ms/step - loss: 0.4344 - accuracy: 0.8014 - val_loss: 0.3900 - val_accuracy: 0.8252\n",
      "Epoch 5/10\n",
      "717/717 [==============================] - 1s 2ms/step - loss: 0.4164 - accuracy: 0.8111 - val_loss: 0.3821 - val_accuracy: 0.8303\n",
      "Epoch 6/10\n",
      "717/717 [==============================] - 1s 2ms/step - loss: 0.4020 - accuracy: 0.8155 - val_loss: 0.3777 - val_accuracy: 0.8303\n",
      "Epoch 7/10\n",
      "717/717 [==============================] - 1s 2ms/step - loss: 0.3861 - accuracy: 0.8235 - val_loss: 0.3814 - val_accuracy: 0.8294\n",
      "Epoch 8/10\n",
      "717/717 [==============================] - 1s 2ms/step - loss: 0.3630 - accuracy: 0.8375 - val_loss: 0.3838 - val_accuracy: 0.8299\n",
      "Epoch 9/10\n",
      "717/717 [==============================] - 1s 2ms/step - loss: 0.3572 - accuracy: 0.8423 - val_loss: 0.3783 - val_accuracy: 0.8332\n",
      "Epoch 10/10\n",
      "717/717 [==============================] - 1s 2ms/step - loss: 0.3434 - accuracy: 0.8452 - val_loss: 0.3738 - val_accuracy: 0.8334\n",
      "384/384 [==============================] - 0s 459us/step - loss: 0.3803 - accuracy: 0.8251\n",
      "Test Accuracy: 0.8250569701194763\n"
     ]
    }
   ],
   "source": [
    "# Example: Remove Conv1D layer\n",
    "model = Sequential()\n",
    "model.add(Embedding(input_dim=5000, output_dim=64, input_length=100))\n",
    "model.add(GlobalMaxPooling1D())\n",
    "model.add(Dropout(0.7))\n",
    "model.add(Dense(32, activation='relu'))\n",
    "model.add(Dropout(0.3))\n",
    "model.add(Dense(1, activation=\"sigmoid\"))\n",
    "\n",
    "model.compile(optimizer=Adam(learning_rate=0.001), loss=\"binary_crossentropy\", metrics=[\"accuracy\"])\n",
    "\n",
    "model.fit(X_train_padded, y_train, epochs=10, validation_split=0.2)\n",
    "\n",
    "X_test_sequences = tokenizer.texts_to_sequences(X_test)\n",
    "X_test_padded_3D = X_test_padded.reshape((X_test_padded.shape[0], X_test_padded.shape[1], 1))\n",
    "accuracy = model.evaluate(X_test_padded, y_test)[1]\n",
    "print(f\"Test Accuracy: {accuracy}\")"
   ]
  },
  {
   "cell_type": "code",
   "execution_count": 50,
   "id": "e755ae77-b914-447a-a719-6605a526bfba",
   "metadata": {
    "tags": []
   },
   "outputs": [
    {
     "name": "stdout",
     "output_type": "stream",
     "text": [
      "Epoch 1/10\n",
      "717/717 [==============================] - 3s 3ms/step - loss: 0.5421 - accuracy: 0.7287 - val_loss: 0.4235 - val_accuracy: 0.8069\n",
      "Epoch 2/10\n",
      "717/717 [==============================] - 2s 3ms/step - loss: 0.4572 - accuracy: 0.7869 - val_loss: 0.3836 - val_accuracy: 0.8322\n",
      "Epoch 3/10\n",
      "717/717 [==============================] - 2s 3ms/step - loss: 0.4210 - accuracy: 0.8043 - val_loss: 0.3742 - val_accuracy: 0.8346\n",
      "Epoch 4/10\n",
      "717/717 [==============================] - 2s 3ms/step - loss: 0.3946 - accuracy: 0.8230 - val_loss: 0.3661 - val_accuracy: 0.8360\n",
      "Epoch 5/10\n",
      "717/717 [==============================] - 2s 3ms/step - loss: 0.3697 - accuracy: 0.8334 - val_loss: 0.3589 - val_accuracy: 0.8383\n",
      "Epoch 6/10\n",
      "717/717 [==============================] - 2s 3ms/step - loss: 0.3510 - accuracy: 0.8446 - val_loss: 0.3570 - val_accuracy: 0.8383\n",
      "Epoch 7/10\n",
      "717/717 [==============================] - 2s 3ms/step - loss: 0.3347 - accuracy: 0.8535 - val_loss: 0.3548 - val_accuracy: 0.8383\n",
      "Epoch 8/10\n",
      "717/717 [==============================] - 2s 3ms/step - loss: 0.3191 - accuracy: 0.8577 - val_loss: 0.3550 - val_accuracy: 0.8406\n",
      "Epoch 9/10\n",
      "717/717 [==============================] - 2s 3ms/step - loss: 0.3068 - accuracy: 0.8651 - val_loss: 0.3570 - val_accuracy: 0.8404\n",
      "Epoch 10/10\n",
      "717/717 [==============================] - 2s 3ms/step - loss: 0.2930 - accuracy: 0.8748 - val_loss: 0.3584 - val_accuracy: 0.8383\n",
      "384/384 [==============================] - 0s 563us/step - loss: 0.3646 - accuracy: 0.8373\n",
      "Test Accuracy: 0.8372679948806763\n"
     ]
    }
   ],
   "source": [
    "# Example: Remove Conv1D layer\n",
    "model = Sequential()\n",
    "model.add(Embedding(input_dim=5000, output_dim=128, input_length=100))\n",
    "model.add(GlobalMaxPooling1D())\n",
    "model.add(Dropout(0.7))\n",
    "model.add(Dense(64, activation='relu'))\n",
    "model.add(Dropout(0.3))\n",
    "model.add(Dense(1, activation=\"sigmoid\"))\n",
    "\n",
    "model.compile(optimizer=Adam(learning_rate=0.001), loss=\"binary_crossentropy\", metrics=[\"accuracy\"])\n",
    "\n",
    "model.fit(X_train_padded, y_train, epochs=10, validation_split=0.2)\n",
    "\n",
    "X_test_sequences = tokenizer.texts_to_sequences(X_test)\n",
    "X_test_padded_3D = X_test_padded.reshape((X_test_padded.shape[0], X_test_padded.shape[1], 1))\n",
    "accuracy = model.evaluate(X_test_padded, y_test)[1]\n",
    "print(f\"Test Accuracy: {accuracy}\")"
   ]
  },
  {
   "cell_type": "code",
   "execution_count": 56,
   "id": "d6a0e1de-4be6-4a01-b1e1-c31d9e998c67",
   "metadata": {
    "tags": []
   },
   "outputs": [
    {
     "name": "stdout",
     "output_type": "stream",
     "text": [
      "Epoch 1/10\n",
      "717/717 [==============================] - 2s 2ms/step - loss: 0.5725 - accuracy: 0.7080 - val_loss: 0.4745 - val_accuracy: 0.7769\n",
      "Epoch 2/10\n",
      "717/717 [==============================] - 1s 2ms/step - loss: 0.4951 - accuracy: 0.7659 - val_loss: 0.4175 - val_accuracy: 0.8090\n",
      "Epoch 3/10\n",
      "717/717 [==============================] - 1s 2ms/step - loss: 0.4667 - accuracy: 0.7846 - val_loss: 0.4042 - val_accuracy: 0.8224\n",
      "Epoch 4/10\n",
      "717/717 [==============================] - 1s 2ms/step - loss: 0.4425 - accuracy: 0.7975 - val_loss: 0.3956 - val_accuracy: 0.8277\n",
      "Epoch 5/10\n",
      "717/717 [==============================] - 1s 2ms/step - loss: 0.4195 - accuracy: 0.8089 - val_loss: 0.3841 - val_accuracy: 0.8301\n",
      "Epoch 6/10\n",
      "717/717 [==============================] - 1s 2ms/step - loss: 0.4048 - accuracy: 0.8146 - val_loss: 0.3853 - val_accuracy: 0.8315\n",
      "Epoch 7/10\n",
      "717/717 [==============================] - 1s 2ms/step - loss: 0.3879 - accuracy: 0.8266 - val_loss: 0.3795 - val_accuracy: 0.8336\n",
      "Epoch 8/10\n",
      "717/717 [==============================] - 1s 2ms/step - loss: 0.3667 - accuracy: 0.8358 - val_loss: 0.3784 - val_accuracy: 0.8325\n",
      "Epoch 9/10\n",
      "717/717 [==============================] - 1s 2ms/step - loss: 0.3539 - accuracy: 0.8425 - val_loss: 0.3766 - val_accuracy: 0.8355\n",
      "Epoch 10/10\n",
      "717/717 [==============================] - 1s 2ms/step - loss: 0.3436 - accuracy: 0.8448 - val_loss: 0.3783 - val_accuracy: 0.8332\n",
      "384/384 [==============================] - 0s 478us/step - loss: 0.3834 - accuracy: 0.8232\n",
      "Test Accuracy: 0.823184609413147\n"
     ]
    }
   ],
   "source": [
    "# Example: Remove Conv1D layer\n",
    "model = Sequential()\n",
    "model.add(Embedding(input_dim=5000, output_dim=64, input_length=100))\n",
    "model.add(GlobalMaxPooling1D())\n",
    "model.add(Dropout(0.7))\n",
    "model.add(Dense(32, activation='relu'))\n",
    "model.add(Dropout(0.3))\n",
    "model.add(Dense(1, activation=\"sigmoid\"))\n",
    "\n",
    "model.compile(optimizer=Adam(learning_rate=0.001), loss=\"binary_crossentropy\", metrics=[\"accuracy\"])\n",
    "\n",
    "model.fit(X_train_padded, y_train, epochs=10, validation_split=0.2)\n",
    "\n",
    "X_test_sequences = tokenizer.texts_to_sequences(X_test)\n",
    "X_test_padded_3D = X_test_padded.reshape((X_test_padded.shape[0], X_test_padded.shape[1], 1))\n",
    "accuracy = model.evaluate(X_test_padded, y_test)[1]\n",
    "print(f\"Test Accuracy: {accuracy}\")"
   ]
  },
  {
   "cell_type": "code",
   "execution_count": 57,
   "id": "5c31fad7-1d84-4b07-b55b-99378aeb9512",
   "metadata": {
    "tags": []
   },
   "outputs": [
    {
     "name": "stdout",
     "output_type": "stream",
     "text": [
      "Epoch 1/100\n",
      "717/717 [==============================] - 2s 2ms/step - loss: 0.5691 - accuracy: 0.7107 - val_loss: 0.4777 - val_accuracy: 0.7717\n",
      "Epoch 2/100\n",
      "717/717 [==============================] - 2s 2ms/step - loss: 0.5002 - accuracy: 0.7655 - val_loss: 0.4212 - val_accuracy: 0.8134\n",
      "Epoch 3/100\n",
      "717/717 [==============================] - 2s 2ms/step - loss: 0.4660 - accuracy: 0.7841 - val_loss: 0.3995 - val_accuracy: 0.8235\n",
      "Epoch 4/100\n",
      "717/717 [==============================] - 1s 2ms/step - loss: 0.4428 - accuracy: 0.7981 - val_loss: 0.3889 - val_accuracy: 0.8275\n",
      "Epoch 5/100\n",
      "717/717 [==============================] - 1s 2ms/step - loss: 0.4265 - accuracy: 0.8075 - val_loss: 0.3930 - val_accuracy: 0.8298\n",
      "Epoch 6/100\n",
      "717/717 [==============================] - 1s 2ms/step - loss: 0.4006 - accuracy: 0.8191 - val_loss: 0.3849 - val_accuracy: 0.8298\n",
      "Epoch 7/100\n",
      "717/717 [==============================] - 1s 2ms/step - loss: 0.3868 - accuracy: 0.8278 - val_loss: 0.3805 - val_accuracy: 0.8296\n",
      "Epoch 8/100\n",
      "717/717 [==============================] - 1s 2ms/step - loss: 0.3748 - accuracy: 0.8328 - val_loss: 0.3830 - val_accuracy: 0.8319\n",
      "Epoch 9/100\n",
      "717/717 [==============================] - 1s 2ms/step - loss: 0.3601 - accuracy: 0.8394 - val_loss: 0.3818 - val_accuracy: 0.8291\n",
      "Epoch 10/100\n",
      "717/717 [==============================] - 1s 2ms/step - loss: 0.3499 - accuracy: 0.8449 - val_loss: 0.3824 - val_accuracy: 0.8257\n",
      "384/384 [==============================] - 0s 470us/step - loss: 0.3817 - accuracy: 0.8305\n",
      "Test Accuracy: 0.830511212348938\n"
     ]
    }
   ],
   "source": [
    "# Example: Remove Conv1D layer\n",
    "model = Sequential()\n",
    "model.add(Embedding(input_dim=5000, output_dim=64, input_length=100))\n",
    "model.add(GlobalMaxPooling1D())\n",
    "model.add(Dropout(0.7))\n",
    "model.add(Dense(32, activation='relu'))\n",
    "model.add(Dropout(0.3))\n",
    "model.add(Dense(1, activation=\"sigmoid\"))\n",
    "\n",
    "model.compile(optimizer=Adam(learning_rate=0.001), loss=\"binary_crossentropy\", metrics=[\"accuracy\"])\n",
    "\n",
    "early_stopping = EarlyStopping(monitor='val_loss', patience=3, restore_best_weights=True)\n",
    "model.fit(X_train_padded, y_train, epochs=100, validation_split=0.2, callbacks=[early_stopping])\n",
    "\n",
    "X_test_sequences = tokenizer.texts_to_sequences(X_test)\n",
    "X_test_padded_3D = X_test_padded.reshape((X_test_padded.shape[0], X_test_padded.shape[1], 1))\n",
    "accuracy = model.evaluate(X_test_padded, y_test)[1]\n",
    "print(f\"Test Accuracy: {accuracy}\")"
   ]
  },
  {
   "cell_type": "code",
   "execution_count": null,
   "id": "e9199a73-a3d5-4d31-9277-0972707e4e61",
   "metadata": {},
   "outputs": [],
   "source": []
  }
 ],
 "metadata": {
  "kernelspec": {
   "display_name": "Python 3 (ipykernel)",
   "language": "python",
   "name": "python3"
  },
  "language_info": {
   "codemirror_mode": {
    "name": "ipython",
    "version": 3
   },
   "file_extension": ".py",
   "mimetype": "text/x-python",
   "name": "python",
   "nbconvert_exporter": "python",
   "pygments_lexer": "ipython3",
   "version": "3.11.5"
  }
 },
 "nbformat": 4,
 "nbformat_minor": 5
}
